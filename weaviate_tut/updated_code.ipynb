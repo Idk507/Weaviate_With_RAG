{
 "cells": [
  {
   "cell_type": "code",
   "execution_count": 40,
   "metadata": {},
   "outputs": [],
   "source": [
    "import weaviate\n",
    "from weaviate.classes.init import Auth\n",
    "import weaviate.classes.config as wc\n",
    "from weaviate.classes.config import Configure\n",
    "from weaviate.classes.config import ReferenceProperty\n",
    "from unstructured.partition.auto import partition\n",
    "from weaviate.util import generate_uuid5\n",
    "import re\n",
    "import requests\n",
    "from unstructured.partition.html import partition_html\n",
    "from unstructured.partition.pdf import partition_pdf\n",
    "import os\n",
    "from typing import List, Dict,Tuple\n",
    "import json\n",
    "from langchain.text_splitter import RecursiveCharacterTextSplitter\n",
    "from langchain.document_loaders import PyPDFLoader\n",
    "from langchain_weaviate.vectorstores import WeaviateVectorStore\n",
    "from weaviate.classes import query as wvc\n",
    "from langchain.chains import create_retrieval_chain\n",
    "from langchain.chains.combine_documents import create_stuff_documents_chain\n",
    "from langchain_core.prompts import ChatPromptTemplate\n",
    "from weaviate import Client\n",
    "import openai\n",
    "from dotenv import load_dotenv\n",
    "import logging\n",
    "from flair.data import Sentence\n",
    "from flair.models import SequenceTagger\n",
    "from fpdf import FPDF\n",
    "from bs4 import BeautifulSoup\n",
    "from llama_index.readers.web import BeautifulSoupWebReader\n",
    "from io import BytesIO\n",
    "import tempfile\n",
    "from langchain.document_loaders import WebBaseLoader\n"
   ]
  },
  {
   "cell_type": "code",
   "execution_count": 60,
   "metadata": {},
   "outputs": [
    {
     "name": "stderr",
     "output_type": "stream",
     "text": [
      "[nltk_data] Downloading package averaged_perceptron_tagger_eng to\n",
      "[nltk_data]     C:\\Users\\dhanu\\AppData\\Roaming\\nltk_data...\n",
      "[nltk_data]   Unzipping taggers\\averaged_perceptron_tagger_eng.zip.\n"
     ]
    },
    {
     "data": {
      "text/plain": [
       "True"
      ]
     },
     "execution_count": 60,
     "metadata": {},
     "output_type": "execute_result"
    }
   ],
   "source": [
    "import nltk\n",
    "nltk.download('averaged_perceptron_tagger_eng')"
   ]
  },
  {
   "cell_type": "code",
   "execution_count": 5,
   "metadata": {},
   "outputs": [],
   "source": [
    "logging.basicConfig(level=logging.INFO)\n",
    "logger = logging.getLogger(__name__)"
   ]
  },
  {
   "cell_type": "code",
   "execution_count": null,
   "metadata": {},
   "outputs": [],
   "source": [
    "openai.api_type = \"azure\"\n",
    "openai.api_version = \"2023-05-15\"\n",
    "openai.api_base = \"h\"\n",
    "openai.api_key = \"02jG4ocs\"\n",
    "\n",
    "weaviate_url = \"hd\"\n",
    "weaviate_key = \"tdc\""
   ]
  },
  {
   "cell_type": "code",
   "execution_count": null,
   "metadata": {},
   "outputs": [],
   "source": [
    "azure_key = \"b9a77\""
   ]
  },
  {
   "cell_type": "code",
   "execution_count": 8,
   "metadata": {},
   "outputs": [],
   "source": [
    "\n",
    "headers = {\n",
    "    \"X-Azure-Api-Key\": azure_key,\n",
    "}\n"
   ]
  },
  {
   "cell_type": "code",
   "execution_count": null,
   "metadata": {},
   "outputs": [
    {
     "name": "stderr",
     "output_type": "stream",
     "text": [
      "INFO:httpx:HTTP Request: GET https://mshwf2zhqzoe7ypcmmnfvg.c0.us-east1.gcp.weaviate.cloud/v1/meta \"HTTP/1.1 200 OK\"\n",
      "INFO:httpx:HTTP Request: GET https://pypi.org/pypi/weaviate-client/json \"HTTP/1.1 200 OK\"\n",
      "INFO:httpx:HTTP Request: GET https://mshwf2zhqzoe7ypcmmnfvg.c0.us-east1.gcp.weaviate.cloud/v1/.well-known/ready \"HTTP/1.1 200 OK\"\n"
     ]
    },
    {
     "data": {
      "text/plain": [
       "True"
      ]
     },
     "execution_count": 9,
     "metadata": {},
     "output_type": "execute_result"
    }
   ],
   "source": [
    "\n",
    "\n",
    "# Connect to your WCD instance\n",
    "client = weaviate.connect_to_wcs(\n",
    "    cluster_url=weaviate_url,\n",
    "    auth_credentials=weaviate.auth.AuthApiKey(weaviate_key),\n",
    "    headers={\n",
    "        \"X-Azure-Api-Key\": \"02j8yABACOG4ocs\"  # Replace with your OpenAI key\n",
    "    }\n",
    ")\n",
    "\n",
    "client.is_ready()"
   ]
  },
  {
   "cell_type": "code",
   "execution_count": 10,
   "metadata": {},
   "outputs": [
    {
     "name": "stdout",
     "output_type": "stream",
     "text": [
      "2025-01-22 16:13:30,145 SequenceTagger predicts: Dictionary with 20 tags: <unk>, O, S-ORG, S-MISC, B-PER, E-PER, S-LOC, B-ORG, E-ORG, I-PER, S-PER, B-MISC, I-MISC, E-MISC, I-ORG, B-LOC, E-LOC, I-LOC, <START>, <STOP>\n"
     ]
    }
   ],
   "source": [
    "\n",
    "tagger = SequenceTagger.load('flair/ner-english')\n"
   ]
  },
  {
   "cell_type": "code",
   "execution_count": 62,
   "metadata": {},
   "outputs": [
    {
     "name": "stderr",
     "output_type": "stream",
     "text": [
      "INFO:httpx:HTTP Request: DELETE https://mshwf2zhqzoe7ypcmmnfvg.c0.us-east1.gcp.weaviate.cloud/v1/schema/Documents \"HTTP/1.1 200 OK\"\n"
     ]
    }
   ],
   "source": [
    "client.collections.delete(\"Documents\")"
   ]
  },
  {
   "cell_type": "code",
   "execution_count": 65,
   "metadata": {},
   "outputs": [
    {
     "name": "stderr",
     "output_type": "stream",
     "text": [
      "INFO:httpx:HTTP Request: GET https://mshwf2zhqzoe7ypcmmnfvg.c0.us-east1.gcp.weaviate.cloud/v1/schema/Documents \"HTTP/1.1 200 OK\"\n",
      "INFO:httpx:HTTP Request: DELETE https://mshwf2zhqzoe7ypcmmnfvg.c0.us-east1.gcp.weaviate.cloud/v1/schema/Documents \"HTTP/1.1 200 OK\"\n",
      "INFO:httpx:HTTP Request: POST https://mshwf2zhqzoe7ypcmmnfvg.c0.us-east1.gcp.weaviate.cloud/v1/schema \"HTTP/1.1 200 OK\"\n"
     ]
    }
   ],
   "source": [
    "import weaviate.classes as wvc\n",
    "\n",
    "\n",
    "collection_name = \"Documents\"\n",
    "\n",
    "if client.collections.exists(collection_name):  # In case we've created this collection before\n",
    "    client.collections.delete(collection_name)  # THIS WILL DELETE ALL DATA IN THE COLLECTION\n",
    "\n",
    "chunk_client = client.collections.create(\n",
    "    name=collection_name,\n",
    "    properties=[\n",
    "        wvc.config.Property(\n",
    "            name=\"content\",\n",
    "            data_type=wvc.config.DataType.TEXT\n",
    "        ),\n",
    "        wvc.config.Property(\n",
    "            name=\"keyword\",\n",
    "            data_type=wvc.config.DataType.TEXT\n",
    "        ),\n",
    "        wvc.config.Property(\n",
    "            name=\"embedding\",\n",
    "            data_type=wvc.config.DataType.INT\n",
    "        ),\n",
    "      \n",
    "    ],\n",
    "    vectorizer_config=wvc.config.Configure.Vectorizer.text2vec_openai(),  # Use `text2vec-openai` as the vectorizer\n",
    "    generative_config=wvc.config.Configure.Generative.openai(),  # Use `generative-openai` with default parameters\n",
    ")"
   ]
  },
  {
   "cell_type": "code",
   "execution_count": 66,
   "metadata": {},
   "outputs": [
    {
     "name": "stderr",
     "output_type": "stream",
     "text": [
      "INFO:httpx:HTTP Request: GET https://mshwf2zhqzoe7ypcmmnfvg.c0.us-east1.gcp.weaviate.cloud/v1/meta \"HTTP/1.1 200 OK\"\n"
     ]
    },
    {
     "name": "stdout",
     "output_type": "stream",
     "text": [
      "{'grpcMaxMessageSize': 10485760, 'hostname': 'http://[::]:8080', 'modules': {'backup-gcs': {'bucketName': 'weaviate-wcs-prod-cust-us-east1-workloads-backups', 'rootName': '99285617-6cc7-4333-9eed-8a4232634556'}, 'generative-anthropic': {'documentationHref': 'https://docs.anthropic.com/en/api/getting-started', 'name': 'Generative Search - Anthropic'}, 'generative-anyscale': {'documentationHref': 'https://docs.anyscale.com/endpoints/overview', 'name': 'Generative Search - Anyscale'}, 'generative-aws': {'documentationHref': 'https://docs.aws.amazon.com/bedrock/latest/APIReference/welcome.html', 'name': 'Generative Search - AWS'}, 'generative-cohere': {'documentationHref': 'https://docs.cohere.com/reference/chat', 'name': 'Generative Search - Cohere'}, 'generative-databricks': {'documentationHref': 'https://docs.databricks.com/en/machine-learning/foundation-models/api-reference.html#completion-task', 'name': 'Generative Search - Databricks'}, 'generative-friendliai': {'documentationHref': 'https://docs.friendli.ai/openapi/create-chat-completions', 'name': 'Generative Search - FriendliAI'}, 'generative-google': {'documentationHref': 'https://cloud.google.com/vertex-ai/docs/generative-ai/chat/test-chat-prompts', 'name': 'Generative Search - Google'}, 'generative-mistral': {'documentationHref': 'https://docs.mistral.ai/api/', 'name': 'Generative Search - Mistral'}, 'generative-octoai': {'documentationHref': 'https://octo.ai/docs/text-gen-solution/getting-started', 'name': 'Generative Search - OctoAI (deprecated)'}, 'generative-ollama': {'documentationHref': 'https://github.com/ollama/ollama/blob/main/docs/api.md#generate-a-completion', 'name': 'Generative Search - Ollama'}, 'generative-openai': {'documentationHref': 'https://platform.openai.com/docs/api-reference/completions', 'name': 'Generative Search - OpenAI'}, 'multi2vec-cohere': {'documentationHref': 'https://docs.cohere.ai/embedding-wiki/', 'name': 'Cohere Module'}, 'multi2vec-google': {'documentationHref': 'https://cloud.google.com/vertex-ai/generative-ai/docs/embeddings/get-multimodal-embeddings', 'name': 'Google Multimodal Module'}, 'multi2vec-jinaai': {'documentationHref': 'https://jina.ai/embeddings/', 'name': 'JinaAI CLIP Module'}, 'multi2vec-voyageai': {'documentationHref': 'https://docs.voyageai.com/docs/multimodal-embeddings', 'name': 'VoyageAI Multi Modal Module'}, 'qna-openai': {'documentationHref': 'https://platform.openai.com/docs/api-reference/completions', 'name': 'OpenAI Question & Answering Module'}, 'ref2vec-centroid': {}, 'reranker-cohere': {'documentationHref': 'https://txt.cohere.com/rerank/', 'name': 'Reranker - Cohere'}, 'reranker-jinaai': {'documentationHref': 'https://jina.ai/reranker', 'name': 'Reranker - Jinaai'}, 'reranker-voyageai': {'documentationHref': 'https://docs.voyageai.com/reference/reranker-api', 'name': 'Reranker - VoyageAI'}, 'text2vec-aws': {'documentationHref': 'https://docs.aws.amazon.com/bedrock/latest/userguide/titan-embedding-models.html', 'name': 'AWS Module'}, 'text2vec-cohere': {'documentationHref': 'https://docs.cohere.ai/embedding-wiki/', 'name': 'Cohere Module'}, 'text2vec-databricks': {'documentationHref': 'https://docs.databricks.com/en/machine-learning/foundation-models/api-reference.html#embedding-task', 'name': 'Databricks Foundation Models Module - Embeddings'}, 'text2vec-google': {'documentationHref': 'https://cloud.google.com/vertex-ai/docs/generative-ai/embeddings/get-text-embeddings', 'name': 'Google Module'}, 'text2vec-huggingface': {'documentationHref': 'https://huggingface.co/docs/api-inference/detailed_parameters#feature-extraction-task', 'name': 'Hugging Face Module'}, 'text2vec-jinaai': {'documentationHref': 'https://jina.ai/embeddings/', 'name': 'JinaAI Module'}, 'text2vec-mistral': {'documentationHref': 'https://docs.mistral.ai/api/#operation/createEmbedding', 'name': 'Mistral Module'}, 'text2vec-octoai': {'documentationHref': 'https://octo.ai/docs/text-gen-solution/getting-started', 'name': 'OctoAI Module (deprecated)'}, 'text2vec-ollama': {'documentationHref': 'https://github.com/ollama/ollama/blob/main/docs/api.md#generate-embeddings', 'name': 'Ollama Module'}, 'text2vec-openai': {'documentationHref': 'https://platform.openai.com/docs/guides/embeddings/what-are-embeddings', 'name': 'OpenAI Module'}, 'text2vec-voyageai': {'documentationHref': 'https://docs.voyageai.com/docs/embeddings', 'name': 'VoyageAI Module'}, 'text2vec-weaviate': {'documentationHref': 'https://api.embedding.weaviate.io', 'name': 'Weaviate Embedding Module'}}, 'version': '1.28.3'}\n"
     ]
    }
   ],
   "source": [
    "response = client.get_meta()\n",
    "print(response)"
   ]
  },
  {
   "cell_type": "code",
   "execution_count": 48,
   "metadata": {},
   "outputs": [],
   "source": [
    "from docx import Document\n",
    "from PyPDF2 import PdfReader"
   ]
  },
  {
   "cell_type": "code",
   "execution_count": 46,
   "metadata": {},
   "outputs": [],
   "source": [
    "def extract_keywords(text):\n",
    "    sentence = Sentence(text)\n",
    "    tagger.predict(sentence)\n",
    "    # Extract only entities labeled as NER\n",
    "    keywords = [entity.text for entity in sentence.get_spans('ner')]\n",
    "    keywords = list(set(keywords))\n",
    "    return keywords"
   ]
  },
  {
   "cell_type": "code",
   "execution_count": 47,
   "metadata": {},
   "outputs": [],
   "source": [
    "\n",
    "def clean_text(text):\n",
    "    text = re.sub(r'\\s+', ' ', text)\n",
    "    text = re.sub(r'[^\\x00-\\x7F]+', ' ', text)\n",
    "    text = text.strip()\n",
    "    return text\n",
    "\n",
    "def fetch_content_url(url, crawled_urls=set()):\n",
    "    if url in crawled_urls:\n",
    "        return \"\"\n",
    "    try:\n",
    "        documents = BeautifulSoupWebReader().load_data([url])\n",
    "    except Exception as e:\n",
    "        logger.error(f\"Failed to load content from {url}: {e}\")\n",
    "        return \"\"\n",
    "\n",
    "    crawled_urls.add(url)\n",
    "\n",
    "    if documents:\n",
    "        doc = documents[0]\n",
    "        cleaned_text = clean_text(doc.text.strip())\n",
    "\n",
    "        soup = BeautifulSoup(doc.text, \"html.parser\")\n",
    "        links = [a['href'] for a in soup.find_all('a', href=True) if a['href'].startswith('http')]\n",
    "\n",
    "        for link in links:\n",
    "            cleaned_text += \"\\n\\n\" + fetch_content_url(link, crawled_urls)\n",
    "\n",
    "        return cleaned_text\n",
    "\n",
    "    return \"\""
   ]
  },
  {
   "cell_type": "code",
   "execution_count": 49,
   "metadata": {},
   "outputs": [],
   "source": [
    "# Save content to PDF\n",
    "def save_content_to_pdf(content, filename):\n",
    "    pdf = FPDF()\n",
    "    pdf.set_auto_page_break(auto=True, margin=15)\n",
    "    pdf.add_page()\n",
    "    pdf.set_font(\"Arial\", size=12)\n",
    "    for line in content.split('\\n'):\n",
    "        pdf.multi_cell(0, 10, line)\n",
    "\n",
    "    temp_dir = tempfile.gettempdir()\n",
    "    temp_file_path = os.path.join(temp_dir, filename)\n",
    "    pdf.output(temp_file_path)\n",
    "    return temp_file_path"
   ]
  },
  {
   "cell_type": "code",
   "execution_count": 50,
   "metadata": {},
   "outputs": [],
   "source": [
    "\n",
    "\n",
    "\n",
    "\n",
    "def parse_pdf(file_path):\n",
    "    with open(file_path, 'rb') as f:\n",
    "        buffer = BytesIO(f.read())\n",
    "    reader = PdfReader(buffer)\n",
    "    text = ''.join([page.extract_text() for page in reader.pages])\n",
    "    os.remove(file_path)\n",
    "    return text\n"
   ]
  },
  {
   "cell_type": "code",
   "execution_count": 51,
   "metadata": {},
   "outputs": [],
   "source": [
    "def parse_docx(file_path):\n",
    "    doc = Document(file_path)\n",
    "    text = '\\n'.join([para.text for para in doc.paragraphs])\n",
    "    os.remove(file_path)\n",
    "    return text\n"
   ]
  },
  {
   "cell_type": "code",
   "execution_count": 52,
   "metadata": {},
   "outputs": [],
   "source": [
    "def parse_txt(file_path):\n",
    "    with open(file_path, 'r', encoding='utf-8') as f:\n",
    "        text = f.read()\n",
    "    os.remove(file_path)\n",
    "    return text"
   ]
  },
  {
   "cell_type": "code",
   "execution_count": 53,
   "metadata": {},
   "outputs": [],
   "source": [
    "\n",
    "\n",
    "def get_azure_embeddings(texts):\n",
    "    embeddings = []\n",
    "    for text in texts:\n",
    "        try:\n",
    "            response = openai.Embedding.create(\n",
    "                input=text,\n",
    "                engine=\"text-embedding-ada-002\"\n",
    "            )\n",
    "            embedding = response['data'][0]['embedding']\n",
    "            embeddings.append(embedding)\n",
    "        except Exception as e:\n",
    "            logger.error(f\"Error generating embedding for text: {text[:30]}... Error: {e}\")\n",
    "    return embeddings"
   ]
  },
  {
   "cell_type": "code",
   "execution_count": 70,
   "metadata": {},
   "outputs": [],
   "source": [
    "def split_and_store_pdf(parsed_pdf, file_path):\n",
    "    logger.info(f\"Splitting and storing PDF file {file_path} content...\")\n",
    "    splitter = RecursiveCharacterTextSplitter(chunk_size=1000, chunk_overlap=100)\n",
    "    chunks = splitter.split_text(parsed_pdf)\n",
    "\n",
    "   \n",
    "    chunk_list = list()\n",
    "    for i,chunk in enumerate(chunks):\n",
    "        embedding = get_azure_embeddings([chunk])[0]\n",
    "        keywords = extract_keywords(chunk)\n",
    "        data_properties = {\n",
    "            \"content\": chunk,\n",
    "            \"keyword\": keywords,\n",
    "       \n",
    "            \n",
    "        }\n",
    "        data_object = wvc.data.DataObject(properties=data_properties)\n",
    "        chunk_list.append(data_object)\n",
    "    chunk_client.data.insert_many(chunk_list)"
   ]
  },
  {
   "cell_type": "code",
   "execution_count": 72,
   "metadata": {},
   "outputs": [
    {
     "name": "stderr",
     "output_type": "stream",
     "text": [
      "INFO:__main__:Splitting and storing PDF file Paper.pdf content...\n"
     ]
    },
    {
     "ename": "WeaviateInsertManyAllFailedError",
     "evalue": "Every object failed during insertion. Here is the set of all errors: invalid text property 'keyword' on class 'Documents': not a string, but []interface {}",
     "output_type": "error",
     "traceback": [
      "\u001b[1;31m---------------------------------------------------------------------------\u001b[0m",
      "\u001b[1;31mWeaviateInsertManyAllFailedError\u001b[0m          Traceback (most recent call last)",
      "Cell \u001b[1;32mIn[72], line 3\u001b[0m\n\u001b[0;32m      1\u001b[0m file_path \u001b[38;5;241m=\u001b[39m \u001b[38;5;124m\"\u001b[39m\u001b[38;5;124mPaper.pdf\u001b[39m\u001b[38;5;124m\"\u001b[39m\n\u001b[0;32m      2\u001b[0m parsed_pdf \u001b[38;5;241m=\u001b[39m parse_pdf(file_path)\n\u001b[1;32m----> 3\u001b[0m \u001b[43msplit_and_store_pdf\u001b[49m\u001b[43m(\u001b[49m\u001b[43mparsed_pdf\u001b[49m\u001b[43m,\u001b[49m\u001b[43m \u001b[49m\u001b[43mfile_path\u001b[49m\u001b[43m)\u001b[49m\n",
      "Cell \u001b[1;32mIn[70], line 19\u001b[0m, in \u001b[0;36msplit_and_store_pdf\u001b[1;34m(parsed_pdf, file_path)\u001b[0m\n\u001b[0;32m     17\u001b[0m     data_object \u001b[38;5;241m=\u001b[39m wvc\u001b[38;5;241m.\u001b[39mdata\u001b[38;5;241m.\u001b[39mDataObject(properties\u001b[38;5;241m=\u001b[39mdata_properties)\n\u001b[0;32m     18\u001b[0m     chunk_list\u001b[38;5;241m.\u001b[39mappend(data_object)\n\u001b[1;32m---> 19\u001b[0m \u001b[43mchunk_client\u001b[49m\u001b[38;5;241;43m.\u001b[39;49m\u001b[43mdata\u001b[49m\u001b[38;5;241;43m.\u001b[39;49m\u001b[43minsert_many\u001b[49m\u001b[43m(\u001b[49m\u001b[43mchunk_list\u001b[49m\u001b[43m)\u001b[49m\n",
      "File \u001b[1;32mc:\\Users\\dhanu\\.conda\\envs\\idk_gpu\\lib\\site-packages\\weaviate\\syncify.py:23\u001b[0m, in \u001b[0;36mconvert.<locals>.sync_method\u001b[1;34m(self, __new_name, *args, **kwargs)\u001b[0m\n\u001b[0;32m     20\u001b[0m \u001b[38;5;129m@wraps\u001b[39m(method)  \u001b[38;5;66;03m# type: ignore\u001b[39;00m\n\u001b[0;32m     21\u001b[0m \u001b[38;5;28;01mdef\u001b[39;00m \u001b[38;5;21msync_method\u001b[39m(\u001b[38;5;28mself\u001b[39m, \u001b[38;5;241m*\u001b[39margs, __new_name\u001b[38;5;241m=\u001b[39mnew_name, \u001b[38;5;241m*\u001b[39m\u001b[38;5;241m*\u001b[39mkwargs):\n\u001b[0;32m     22\u001b[0m     async_func \u001b[38;5;241m=\u001b[39m \u001b[38;5;28mgetattr\u001b[39m(\u001b[38;5;28mcls\u001b[39m, __new_name)\n\u001b[1;32m---> 23\u001b[0m     \u001b[38;5;28;01mreturn\u001b[39;00m _EventLoopSingleton\u001b[38;5;241m.\u001b[39mget_instance()\u001b[38;5;241m.\u001b[39mrun_until_complete(\n\u001b[0;32m     24\u001b[0m         async_func, \u001b[38;5;28mself\u001b[39m, \u001b[38;5;241m*\u001b[39margs, \u001b[38;5;241m*\u001b[39m\u001b[38;5;241m*\u001b[39mkwargs\n\u001b[0;32m     25\u001b[0m     )\n",
      "File \u001b[1;32mc:\\Users\\dhanu\\.conda\\envs\\idk_gpu\\lib\\site-packages\\weaviate\\event_loop.py:42\u001b[0m, in \u001b[0;36m_EventLoop.run_until_complete\u001b[1;34m(self, f, *args, **kwargs)\u001b[0m\n\u001b[0;32m     40\u001b[0m     \u001b[38;5;28;01mraise\u001b[39;00m WeaviateClosedClientError()\n\u001b[0;32m     41\u001b[0m fut \u001b[38;5;241m=\u001b[39m asyncio\u001b[38;5;241m.\u001b[39mrun_coroutine_threadsafe(f(\u001b[38;5;241m*\u001b[39margs, \u001b[38;5;241m*\u001b[39m\u001b[38;5;241m*\u001b[39mkwargs), \u001b[38;5;28mself\u001b[39m\u001b[38;5;241m.\u001b[39mloop)\n\u001b[1;32m---> 42\u001b[0m \u001b[38;5;28;01mreturn\u001b[39;00m \u001b[43mfut\u001b[49m\u001b[38;5;241;43m.\u001b[39;49m\u001b[43mresult\u001b[49m\u001b[43m(\u001b[49m\u001b[43m)\u001b[49m\n",
      "File \u001b[1;32mc:\\Users\\dhanu\\.conda\\envs\\idk_gpu\\lib\\concurrent\\futures\\_base.py:458\u001b[0m, in \u001b[0;36mFuture.result\u001b[1;34m(self, timeout)\u001b[0m\n\u001b[0;32m    456\u001b[0m     \u001b[38;5;28;01mraise\u001b[39;00m CancelledError()\n\u001b[0;32m    457\u001b[0m \u001b[38;5;28;01melif\u001b[39;00m \u001b[38;5;28mself\u001b[39m\u001b[38;5;241m.\u001b[39m_state \u001b[38;5;241m==\u001b[39m FINISHED:\n\u001b[1;32m--> 458\u001b[0m     \u001b[38;5;28;01mreturn\u001b[39;00m \u001b[38;5;28;43mself\u001b[39;49m\u001b[38;5;241;43m.\u001b[39;49m\u001b[43m__get_result\u001b[49m\u001b[43m(\u001b[49m\u001b[43m)\u001b[49m\n\u001b[0;32m    459\u001b[0m \u001b[38;5;28;01melse\u001b[39;00m:\n\u001b[0;32m    460\u001b[0m     \u001b[38;5;28;01mraise\u001b[39;00m \u001b[38;5;167;01mTimeoutError\u001b[39;00m()\n",
      "File \u001b[1;32mc:\\Users\\dhanu\\.conda\\envs\\idk_gpu\\lib\\concurrent\\futures\\_base.py:403\u001b[0m, in \u001b[0;36mFuture.__get_result\u001b[1;34m(self)\u001b[0m\n\u001b[0;32m    401\u001b[0m \u001b[38;5;28;01mif\u001b[39;00m \u001b[38;5;28mself\u001b[39m\u001b[38;5;241m.\u001b[39m_exception:\n\u001b[0;32m    402\u001b[0m     \u001b[38;5;28;01mtry\u001b[39;00m:\n\u001b[1;32m--> 403\u001b[0m         \u001b[38;5;28;01mraise\u001b[39;00m \u001b[38;5;28mself\u001b[39m\u001b[38;5;241m.\u001b[39m_exception\n\u001b[0;32m    404\u001b[0m     \u001b[38;5;28;01mfinally\u001b[39;00m:\n\u001b[0;32m    405\u001b[0m         \u001b[38;5;66;03m# Break a reference cycle with the exception in self._exception\u001b[39;00m\n\u001b[0;32m    406\u001b[0m         \u001b[38;5;28mself\u001b[39m \u001b[38;5;241m=\u001b[39m \u001b[38;5;28;01mNone\u001b[39;00m\n",
      "File \u001b[1;32mc:\\Users\\dhanu\\.conda\\envs\\idk_gpu\\lib\\site-packages\\weaviate\\collections\\data\\data.py:386\u001b[0m, in \u001b[0;36m_DataCollectionAsync.insert_many\u001b[1;34m(self, objects)\u001b[0m\n\u001b[0;32m    346\u001b[0m \u001b[38;5;250m\u001b[39m\u001b[38;5;124;03m\"\"\"Insert multiple objects into the collection.\u001b[39;00m\n\u001b[0;32m    347\u001b[0m \n\u001b[0;32m    348\u001b[0m \u001b[38;5;124;03mArguments:\u001b[39;00m\n\u001b[1;32m   (...)\u001b[0m\n\u001b[0;32m    360\u001b[0m \u001b[38;5;124;03m        If every object in the batch fails to be inserted. The exception message contains details about the failure.\u001b[39;00m\n\u001b[0;32m    361\u001b[0m \u001b[38;5;124;03m\"\"\"\u001b[39;00m\n\u001b[0;32m    362\u001b[0m objs \u001b[38;5;241m=\u001b[39m [\n\u001b[0;32m    363\u001b[0m     (\n\u001b[0;32m    364\u001b[0m         _BatchObject(\n\u001b[1;32m   (...)\u001b[0m\n\u001b[0;32m    384\u001b[0m     \u001b[38;5;28;01mfor\u001b[39;00m idx, obj \u001b[38;5;129;01min\u001b[39;00m \u001b[38;5;28menumerate\u001b[39m(objects)\n\u001b[0;32m    385\u001b[0m ]\n\u001b[1;32m--> 386\u001b[0m res \u001b[38;5;241m=\u001b[39m \u001b[38;5;28;01mawait\u001b[39;00m \u001b[38;5;28mself\u001b[39m\u001b[38;5;241m.\u001b[39m_batch_grpc\u001b[38;5;241m.\u001b[39mobjects(objs, timeout\u001b[38;5;241m=\u001b[39m\u001b[38;5;28mself\u001b[39m\u001b[38;5;241m.\u001b[39m_connection\u001b[38;5;241m.\u001b[39mtimeout_config\u001b[38;5;241m.\u001b[39minsert)\n\u001b[0;32m    387\u001b[0m \u001b[38;5;28;01mif\u001b[39;00m (n_obj_errs \u001b[38;5;241m:=\u001b[39m \u001b[38;5;28mlen\u001b[39m(res\u001b[38;5;241m.\u001b[39merrors)) \u001b[38;5;241m>\u001b[39m \u001b[38;5;241m0\u001b[39m:\n\u001b[0;32m    388\u001b[0m     logger\u001b[38;5;241m.\u001b[39merror(\n\u001b[0;32m    389\u001b[0m         {\n\u001b[0;32m    390\u001b[0m             \u001b[38;5;124m\"\u001b[39m\u001b[38;5;124mmessage\u001b[39m\u001b[38;5;124m\"\u001b[39m: \u001b[38;5;124mf\u001b[39m\u001b[38;5;124m\"\u001b[39m\u001b[38;5;124mFailed to send \u001b[39m\u001b[38;5;132;01m{\u001b[39;00mn_obj_errs\u001b[38;5;132;01m}\u001b[39;00m\u001b[38;5;124m objects in a batch of \u001b[39m\u001b[38;5;132;01m{\u001b[39;00m\u001b[38;5;28mlen\u001b[39m(objs)\u001b[38;5;132;01m}\u001b[39;00m\u001b[38;5;124m. Please inspect the errors variable of the returned object for more information.\u001b[39m\u001b[38;5;124m\"\u001b[39m,\n\u001b[0;32m    391\u001b[0m             \u001b[38;5;124m\"\u001b[39m\u001b[38;5;124merrors\u001b[39m\u001b[38;5;124m\"\u001b[39m: res\u001b[38;5;241m.\u001b[39merrors,\n\u001b[0;32m    392\u001b[0m         }\n\u001b[0;32m    393\u001b[0m     )\n",
      "File \u001b[1;32mc:\\Users\\dhanu\\.conda\\envs\\idk_gpu\\lib\\site-packages\\weaviate\\collections\\batch\\grpc_batch_objects.py:106\u001b[0m, in \u001b[0;36m_BatchGRPC.objects\u001b[1;34m(self, objects, timeout)\u001b[0m\n\u001b[0;32m    102\u001b[0m elapsed_time \u001b[38;5;241m=\u001b[39m time\u001b[38;5;241m.\u001b[39mtime() \u001b[38;5;241m-\u001b[39m start\n\u001b[0;32m    104\u001b[0m \u001b[38;5;28;01mif\u001b[39;00m \u001b[38;5;28mlen\u001b[39m(errors) \u001b[38;5;241m==\u001b[39m \u001b[38;5;28mlen\u001b[39m(weaviate_objs):\n\u001b[0;32m    105\u001b[0m     \u001b[38;5;66;03m# Escape sequence (backslash) not allowed in expression portion of f-string prior to Python 3.12: pylance\u001b[39;00m\n\u001b[1;32m--> 106\u001b[0m     \u001b[38;5;28;01mraise\u001b[39;00m WeaviateInsertManyAllFailedError(\n\u001b[0;32m    107\u001b[0m         \u001b[38;5;124m\"\u001b[39m\u001b[38;5;124mHere is the set of all errors: \u001b[39m\u001b[38;5;132;01m{}\u001b[39;00m\u001b[38;5;124m\"\u001b[39m\u001b[38;5;241m.\u001b[39mformat(\n\u001b[0;32m    108\u001b[0m             \u001b[38;5;124m\"\u001b[39m\u001b[38;5;130;01m\\n\u001b[39;00m\u001b[38;5;124m\"\u001b[39m\u001b[38;5;241m.\u001b[39mjoin(err \u001b[38;5;28;01mfor\u001b[39;00m err \u001b[38;5;129;01min\u001b[39;00m \u001b[38;5;28mset\u001b[39m(errors\u001b[38;5;241m.\u001b[39mvalues()))\n\u001b[0;32m    109\u001b[0m         )\n\u001b[0;32m    110\u001b[0m     )\n\u001b[0;32m    112\u001b[0m all_responses: List[Union[uuid_package\u001b[38;5;241m.\u001b[39mUUID, ErrorObject]] \u001b[38;5;241m=\u001b[39m cast(\n\u001b[0;32m    113\u001b[0m     List[Union[uuid_package\u001b[38;5;241m.\u001b[39mUUID, ErrorObject]], \u001b[38;5;28mlist\u001b[39m(\u001b[38;5;28mrange\u001b[39m(\u001b[38;5;28mlen\u001b[39m(weaviate_objs)))\n\u001b[0;32m    114\u001b[0m )\n\u001b[0;32m    115\u001b[0m return_success: Dict[\u001b[38;5;28mint\u001b[39m, uuid_package\u001b[38;5;241m.\u001b[39mUUID] \u001b[38;5;241m=\u001b[39m {}\n",
      "\u001b[1;31mWeaviateInsertManyAllFailedError\u001b[0m: Every object failed during insertion. Here is the set of all errors: invalid text property 'keyword' on class 'Documents': not a string, but []interface {}"
     ]
    }
   ],
   "source": [
    "file_path = \"Paper.pdf\"\n",
    "parsed_pdf = parse_pdf(file_path)\n",
    "split_and_store_pdf(parsed_pdf, file_path)"
   ]
  },
  {
   "cell_type": "code",
   "execution_count": 73,
   "metadata": {},
   "outputs": [],
   "source": [
    "from typing import List\n",
    "\n",
    "\n",
    "def download_and_chunk(src_url: str, chunk_size: int, overlap_size: int) -> List[str]:\n",
    "    import requests\n",
    "    import re\n",
    "\n",
    "    response = requests.get(src_url)  # Retrieve source text\n",
    "    source_text = re.sub(r\"\\s+\", \" \", response.text)  # Remove multiple whitespaces\n",
    "    text_words = re.split(r\"\\s\", source_text)  # Split text by single whitespace\n",
    "\n",
    "    chunks = []\n",
    "    for i in range(0, len(text_words), chunk_size):  # Iterate through & chunk data\n",
    "        chunk = \" \".join(text_words[max(i - overlap_size, 0): i + chunk_size])  # Join a set of words into a string\n",
    "        chunks.append(chunk)\n",
    "    return chunks\n",
    "\n",
    "\n",
    "pro_git_chapter_url = \"https://raw.githubusercontent.com/progit/progit2/main/book/01-introduction/sections/what-is-git.asc\"\n",
    "chunked_text = download_and_chunk(pro_git_chapter_url, 150, 25)"
   ]
  },
  {
   "cell_type": "code",
   "execution_count": 74,
   "metadata": {},
   "outputs": [
    {
     "name": "stderr",
     "output_type": "stream",
     "text": [
      "INFO:httpx:HTTP Request: GET https://mshwf2zhqzoe7ypcmmnfvg.c0.us-east1.gcp.weaviate.cloud/v1/schema/GitBookChunk \"HTTP/1.1 404 Not Found\"\n",
      "INFO:httpx:HTTP Request: POST https://mshwf2zhqzoe7ypcmmnfvg.c0.us-east1.gcp.weaviate.cloud/v1/schema \"HTTP/1.1 200 OK\"\n"
     ]
    }
   ],
   "source": [
    "import weaviate.classes as wvc\n",
    "\n",
    "\n",
    "collection_name = \"GitBookChunk\"\n",
    "\n",
    "if client.collections.exists(collection_name):  # In case we've created this collection before\n",
    "    client.collections.delete(collection_name)  # THIS WILL DELETE ALL DATA IN THE COLLECTION\n",
    "\n",
    "chunks = client.collections.create(\n",
    "    name=collection_name,\n",
    "    properties=[\n",
    "        wvc.config.Property(\n",
    "            name=\"chunk\",\n",
    "            data_type=wvc.config.DataType.TEXT\n",
    "        ),\n",
    "        wvc.config.Property(\n",
    "            name=\"chapter_title\",\n",
    "            data_type=wvc.config.DataType.TEXT\n",
    "        ),\n",
    "        wvc.config.Property(\n",
    "            name=\"chunk_index\",\n",
    "            data_type=wvc.config.DataType.INT\n",
    "        ),\n",
    "    ],\n",
    "    vectorizer_config=wvc.config.Configure.Vectorizer.text2vec_openai(),  # Use `text2vec-openai` as the vectorizer\n",
    "    generative_config=wvc.config.Configure.Generative.openai(),  # Use `generative-openai` with default parameters\n",
    ")"
   ]
  },
  {
   "cell_type": "code",
   "execution_count": 78,
   "metadata": {},
   "outputs": [
    {
     "ename": "WeaviateInsertManyAllFailedError",
     "evalue": "Every object failed during insertion. Here is the set of all errors: API Key: no api key found neither in request header: X-Openai-Api-Key nor in environment variable under OPENAI_APIKEY",
     "output_type": "error",
     "traceback": [
      "\u001b[1;31m---------------------------------------------------------------------------\u001b[0m",
      "\u001b[1;31mWeaviateInsertManyAllFailedError\u001b[0m          Traceback (most recent call last)",
      "Cell \u001b[1;32mIn[78], line 10\u001b[0m\n\u001b[0;32m      8\u001b[0m     data_object \u001b[38;5;241m=\u001b[39m wvc\u001b[38;5;241m.\u001b[39mdata\u001b[38;5;241m.\u001b[39mDataObject(properties\u001b[38;5;241m=\u001b[39mdata_properties)\n\u001b[0;32m      9\u001b[0m     chunks_list\u001b[38;5;241m.\u001b[39mappend(data_object)\n\u001b[1;32m---> 10\u001b[0m \u001b[43mchunks\u001b[49m\u001b[38;5;241;43m.\u001b[39;49m\u001b[43mdata\u001b[49m\u001b[38;5;241;43m.\u001b[39;49m\u001b[43minsert_many\u001b[49m\u001b[43m(\u001b[49m\u001b[43mchunks_list\u001b[49m\u001b[43m)\u001b[49m\n",
      "File \u001b[1;32mc:\\Users\\dhanu\\.conda\\envs\\idk_gpu\\lib\\site-packages\\weaviate\\syncify.py:23\u001b[0m, in \u001b[0;36mconvert.<locals>.sync_method\u001b[1;34m(self, __new_name, *args, **kwargs)\u001b[0m\n\u001b[0;32m     20\u001b[0m \u001b[38;5;129m@wraps\u001b[39m(method)  \u001b[38;5;66;03m# type: ignore\u001b[39;00m\n\u001b[0;32m     21\u001b[0m \u001b[38;5;28;01mdef\u001b[39;00m \u001b[38;5;21msync_method\u001b[39m(\u001b[38;5;28mself\u001b[39m, \u001b[38;5;241m*\u001b[39margs, __new_name\u001b[38;5;241m=\u001b[39mnew_name, \u001b[38;5;241m*\u001b[39m\u001b[38;5;241m*\u001b[39mkwargs):\n\u001b[0;32m     22\u001b[0m     async_func \u001b[38;5;241m=\u001b[39m \u001b[38;5;28mgetattr\u001b[39m(\u001b[38;5;28mcls\u001b[39m, __new_name)\n\u001b[1;32m---> 23\u001b[0m     \u001b[38;5;28;01mreturn\u001b[39;00m _EventLoopSingleton\u001b[38;5;241m.\u001b[39mget_instance()\u001b[38;5;241m.\u001b[39mrun_until_complete(\n\u001b[0;32m     24\u001b[0m         async_func, \u001b[38;5;28mself\u001b[39m, \u001b[38;5;241m*\u001b[39margs, \u001b[38;5;241m*\u001b[39m\u001b[38;5;241m*\u001b[39mkwargs\n\u001b[0;32m     25\u001b[0m     )\n",
      "File \u001b[1;32mc:\\Users\\dhanu\\.conda\\envs\\idk_gpu\\lib\\site-packages\\weaviate\\event_loop.py:42\u001b[0m, in \u001b[0;36m_EventLoop.run_until_complete\u001b[1;34m(self, f, *args, **kwargs)\u001b[0m\n\u001b[0;32m     40\u001b[0m     \u001b[38;5;28;01mraise\u001b[39;00m WeaviateClosedClientError()\n\u001b[0;32m     41\u001b[0m fut \u001b[38;5;241m=\u001b[39m asyncio\u001b[38;5;241m.\u001b[39mrun_coroutine_threadsafe(f(\u001b[38;5;241m*\u001b[39margs, \u001b[38;5;241m*\u001b[39m\u001b[38;5;241m*\u001b[39mkwargs), \u001b[38;5;28mself\u001b[39m\u001b[38;5;241m.\u001b[39mloop)\n\u001b[1;32m---> 42\u001b[0m \u001b[38;5;28;01mreturn\u001b[39;00m \u001b[43mfut\u001b[49m\u001b[38;5;241;43m.\u001b[39;49m\u001b[43mresult\u001b[49m\u001b[43m(\u001b[49m\u001b[43m)\u001b[49m\n",
      "File \u001b[1;32mc:\\Users\\dhanu\\.conda\\envs\\idk_gpu\\lib\\concurrent\\futures\\_base.py:458\u001b[0m, in \u001b[0;36mFuture.result\u001b[1;34m(self, timeout)\u001b[0m\n\u001b[0;32m    456\u001b[0m     \u001b[38;5;28;01mraise\u001b[39;00m CancelledError()\n\u001b[0;32m    457\u001b[0m \u001b[38;5;28;01melif\u001b[39;00m \u001b[38;5;28mself\u001b[39m\u001b[38;5;241m.\u001b[39m_state \u001b[38;5;241m==\u001b[39m FINISHED:\n\u001b[1;32m--> 458\u001b[0m     \u001b[38;5;28;01mreturn\u001b[39;00m \u001b[38;5;28;43mself\u001b[39;49m\u001b[38;5;241;43m.\u001b[39;49m\u001b[43m__get_result\u001b[49m\u001b[43m(\u001b[49m\u001b[43m)\u001b[49m\n\u001b[0;32m    459\u001b[0m \u001b[38;5;28;01melse\u001b[39;00m:\n\u001b[0;32m    460\u001b[0m     \u001b[38;5;28;01mraise\u001b[39;00m \u001b[38;5;167;01mTimeoutError\u001b[39;00m()\n",
      "File \u001b[1;32mc:\\Users\\dhanu\\.conda\\envs\\idk_gpu\\lib\\concurrent\\futures\\_base.py:403\u001b[0m, in \u001b[0;36mFuture.__get_result\u001b[1;34m(self)\u001b[0m\n\u001b[0;32m    401\u001b[0m \u001b[38;5;28;01mif\u001b[39;00m \u001b[38;5;28mself\u001b[39m\u001b[38;5;241m.\u001b[39m_exception:\n\u001b[0;32m    402\u001b[0m     \u001b[38;5;28;01mtry\u001b[39;00m:\n\u001b[1;32m--> 403\u001b[0m         \u001b[38;5;28;01mraise\u001b[39;00m \u001b[38;5;28mself\u001b[39m\u001b[38;5;241m.\u001b[39m_exception\n\u001b[0;32m    404\u001b[0m     \u001b[38;5;28;01mfinally\u001b[39;00m:\n\u001b[0;32m    405\u001b[0m         \u001b[38;5;66;03m# Break a reference cycle with the exception in self._exception\u001b[39;00m\n\u001b[0;32m    406\u001b[0m         \u001b[38;5;28mself\u001b[39m \u001b[38;5;241m=\u001b[39m \u001b[38;5;28;01mNone\u001b[39;00m\n",
      "File \u001b[1;32mc:\\Users\\dhanu\\.conda\\envs\\idk_gpu\\lib\\site-packages\\weaviate\\collections\\data\\data.py:386\u001b[0m, in \u001b[0;36m_DataCollectionAsync.insert_many\u001b[1;34m(self, objects)\u001b[0m\n\u001b[0;32m    346\u001b[0m \u001b[38;5;250m\u001b[39m\u001b[38;5;124;03m\"\"\"Insert multiple objects into the collection.\u001b[39;00m\n\u001b[0;32m    347\u001b[0m \n\u001b[0;32m    348\u001b[0m \u001b[38;5;124;03mArguments:\u001b[39;00m\n\u001b[1;32m   (...)\u001b[0m\n\u001b[0;32m    360\u001b[0m \u001b[38;5;124;03m        If every object in the batch fails to be inserted. The exception message contains details about the failure.\u001b[39;00m\n\u001b[0;32m    361\u001b[0m \u001b[38;5;124;03m\"\"\"\u001b[39;00m\n\u001b[0;32m    362\u001b[0m objs \u001b[38;5;241m=\u001b[39m [\n\u001b[0;32m    363\u001b[0m     (\n\u001b[0;32m    364\u001b[0m         _BatchObject(\n\u001b[1;32m   (...)\u001b[0m\n\u001b[0;32m    384\u001b[0m     \u001b[38;5;28;01mfor\u001b[39;00m idx, obj \u001b[38;5;129;01min\u001b[39;00m \u001b[38;5;28menumerate\u001b[39m(objects)\n\u001b[0;32m    385\u001b[0m ]\n\u001b[1;32m--> 386\u001b[0m res \u001b[38;5;241m=\u001b[39m \u001b[38;5;28;01mawait\u001b[39;00m \u001b[38;5;28mself\u001b[39m\u001b[38;5;241m.\u001b[39m_batch_grpc\u001b[38;5;241m.\u001b[39mobjects(objs, timeout\u001b[38;5;241m=\u001b[39m\u001b[38;5;28mself\u001b[39m\u001b[38;5;241m.\u001b[39m_connection\u001b[38;5;241m.\u001b[39mtimeout_config\u001b[38;5;241m.\u001b[39minsert)\n\u001b[0;32m    387\u001b[0m \u001b[38;5;28;01mif\u001b[39;00m (n_obj_errs \u001b[38;5;241m:=\u001b[39m \u001b[38;5;28mlen\u001b[39m(res\u001b[38;5;241m.\u001b[39merrors)) \u001b[38;5;241m>\u001b[39m \u001b[38;5;241m0\u001b[39m:\n\u001b[0;32m    388\u001b[0m     logger\u001b[38;5;241m.\u001b[39merror(\n\u001b[0;32m    389\u001b[0m         {\n\u001b[0;32m    390\u001b[0m             \u001b[38;5;124m\"\u001b[39m\u001b[38;5;124mmessage\u001b[39m\u001b[38;5;124m\"\u001b[39m: \u001b[38;5;124mf\u001b[39m\u001b[38;5;124m\"\u001b[39m\u001b[38;5;124mFailed to send \u001b[39m\u001b[38;5;132;01m{\u001b[39;00mn_obj_errs\u001b[38;5;132;01m}\u001b[39;00m\u001b[38;5;124m objects in a batch of \u001b[39m\u001b[38;5;132;01m{\u001b[39;00m\u001b[38;5;28mlen\u001b[39m(objs)\u001b[38;5;132;01m}\u001b[39;00m\u001b[38;5;124m. Please inspect the errors variable of the returned object for more information.\u001b[39m\u001b[38;5;124m\"\u001b[39m,\n\u001b[0;32m    391\u001b[0m             \u001b[38;5;124m\"\u001b[39m\u001b[38;5;124merrors\u001b[39m\u001b[38;5;124m\"\u001b[39m: res\u001b[38;5;241m.\u001b[39merrors,\n\u001b[0;32m    392\u001b[0m         }\n\u001b[0;32m    393\u001b[0m     )\n",
      "File \u001b[1;32mc:\\Users\\dhanu\\.conda\\envs\\idk_gpu\\lib\\site-packages\\weaviate\\collections\\batch\\grpc_batch_objects.py:106\u001b[0m, in \u001b[0;36m_BatchGRPC.objects\u001b[1;34m(self, objects, timeout)\u001b[0m\n\u001b[0;32m    102\u001b[0m elapsed_time \u001b[38;5;241m=\u001b[39m time\u001b[38;5;241m.\u001b[39mtime() \u001b[38;5;241m-\u001b[39m start\n\u001b[0;32m    104\u001b[0m \u001b[38;5;28;01mif\u001b[39;00m \u001b[38;5;28mlen\u001b[39m(errors) \u001b[38;5;241m==\u001b[39m \u001b[38;5;28mlen\u001b[39m(weaviate_objs):\n\u001b[0;32m    105\u001b[0m     \u001b[38;5;66;03m# Escape sequence (backslash) not allowed in expression portion of f-string prior to Python 3.12: pylance\u001b[39;00m\n\u001b[1;32m--> 106\u001b[0m     \u001b[38;5;28;01mraise\u001b[39;00m WeaviateInsertManyAllFailedError(\n\u001b[0;32m    107\u001b[0m         \u001b[38;5;124m\"\u001b[39m\u001b[38;5;124mHere is the set of all errors: \u001b[39m\u001b[38;5;132;01m{}\u001b[39;00m\u001b[38;5;124m\"\u001b[39m\u001b[38;5;241m.\u001b[39mformat(\n\u001b[0;32m    108\u001b[0m             \u001b[38;5;124m\"\u001b[39m\u001b[38;5;130;01m\\n\u001b[39;00m\u001b[38;5;124m\"\u001b[39m\u001b[38;5;241m.\u001b[39mjoin(err \u001b[38;5;28;01mfor\u001b[39;00m err \u001b[38;5;129;01min\u001b[39;00m \u001b[38;5;28mset\u001b[39m(errors\u001b[38;5;241m.\u001b[39mvalues()))\n\u001b[0;32m    109\u001b[0m         )\n\u001b[0;32m    110\u001b[0m     )\n\u001b[0;32m    112\u001b[0m all_responses: List[Union[uuid_package\u001b[38;5;241m.\u001b[39mUUID, ErrorObject]] \u001b[38;5;241m=\u001b[39m cast(\n\u001b[0;32m    113\u001b[0m     List[Union[uuid_package\u001b[38;5;241m.\u001b[39mUUID, ErrorObject]], \u001b[38;5;28mlist\u001b[39m(\u001b[38;5;28mrange\u001b[39m(\u001b[38;5;28mlen\u001b[39m(weaviate_objs)))\n\u001b[0;32m    114\u001b[0m )\n\u001b[0;32m    115\u001b[0m return_success: Dict[\u001b[38;5;28mint\u001b[39m, uuid_package\u001b[38;5;241m.\u001b[39mUUID] \u001b[38;5;241m=\u001b[39m {}\n",
      "\u001b[1;31mWeaviateInsertManyAllFailedError\u001b[0m: Every object failed during insertion. Here is the set of all errors: API Key: no api key found neither in request header: X-Openai-Api-Key nor in environment variable under OPENAI_APIKEY"
     ]
    }
   ],
   "source": [
    "chunks_list = list()\n",
    "for i, chunk in enumerate(chunked_text):\n",
    "    data_properties = {\n",
    "        \"chapter_title\": \"What is Git\",\n",
    "        \"chunk\": chunk,\n",
    "        \"chunk_index\": i\n",
    "    }\n",
    "    data_object = wvc.data.DataObject(properties=data_properties)\n",
    "    chunks_list.append(data_object)\n",
    "chunks.data.insert_many(chunks_list)"
   ]
  },
  {
   "cell_type": "code",
   "execution_count": null,
   "metadata": {},
   "outputs": [],
   "source": []
  }
 ],
 "metadata": {
  "kernelspec": {
   "display_name": "idk_gpu",
   "language": "python",
   "name": "python3"
  },
  "language_info": {
   "codemirror_mode": {
    "name": "ipython",
    "version": 3
   },
   "file_extension": ".py",
   "mimetype": "text/x-python",
   "name": "python",
   "nbconvert_exporter": "python",
   "pygments_lexer": "ipython3",
   "version": "3.10.14"
  }
 },
 "nbformat": 4,
 "nbformat_minor": 2
}

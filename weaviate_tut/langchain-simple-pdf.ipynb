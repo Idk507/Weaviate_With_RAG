{
 "cells": [
  {
   "cell_type": "code",
   "execution_count": null,
   "metadata": {},
   "outputs": [],
   "source": [
    "\"\"\"\n",
    "%pip install -Uqq langchain-weaviate langchain-community\n",
    "%pip install langchain-openai tiktoken langchain pypdf\"\"\""
   ]
  },
  {
   "cell_type": "code",
   "execution_count": 3,
   "metadata": {},
   "outputs": [],
   "source": [
    "import weaviate\n",
    "from weaviate.classes.init import Auth\n",
    "import google.generativeai as genai\n",
    "from typing import List, Dict\n",
    "import os\n",
    "from typing import List, Dict\n",
    "from langchain.text_splitter import RecursiveCharacterTextSplitter\n",
    "from langchain.document_loaders import PyPDFLoader\n",
    "from langchain_weaviate.vectorstores import WeaviateVectorStore\n",
    "from langchain.embeddings import HuggingFaceEmbeddings\n",
    "from weaviate.classes import query as wvc\n",
    "from langchain.chains import create_retrieval_chain\n",
    "from langchain.chains.combine_documents import create_stuff_documents_chain\n",
    "from langchain_core.prompts import ChatPromptTemplate\n",
    "from langchain_google_genai import ChatGoogleGenerativeAI\n",
    "from langchain_google_genai import GoogleGenerativeAIEmbeddings"
   ]
  },
  {
   "cell_type": "code",
   "execution_count": 6,
   "metadata": {},
   "outputs": [
    {
     "name": "stdout",
     "output_type": "stream",
     "text": [
      "True\n"
     ]
    }
   ],
   "source": [
    "# Connect to Weaviate Cloud\n",
    "client = weaviate.connect_to_weaviate_cloud(\n",
    "    cluster_url= WEAVIATE_URL,\n",
    "    auth_credentials=Auth.api_key(WEAVIATE_API_KEY),\n",
    ")\n",
    "\n",
    "print(client.is_ready())"
   ]
  },
  {
   "cell_type": "code",
   "execution_count": 42,
   "metadata": {},
   "outputs": [],
   "source": [
    "huggingface_key = huggingface_api_key\n",
    "headers = {\n",
    "    \"X-HuggingFace-Api-Key\": huggingface_key,\n",
    "}\n",
    "\n",
    "client = weaviate.connect_to_weaviate_cloud(\n",
    "    cluster_url=WEAVIATE_URL,                       # `weaviate_url`:  Weaviate URL\n",
    "    auth_credentials=Auth.api_key(WEAVIATE_API_KEY),      # `weaviate_key`:  Weaviate API key\n",
    "    headers=headers\n",
    ")"
   ]
  },
  {
   "cell_type": "code",
   "execution_count": null,
   "metadata": {},
   "outputs": [
    {
     "name": "stderr",
     "output_type": "stream",
     "text": [
      "c:\\Users\\dhanu\\.conda\\envs\\idk_gpu\\lib\\site-packages\\weaviate\\warnings.py:314: ResourceWarning: Con004: The connection to Weaviate was not closed properly. This can lead to memory leaks.\n",
      "            Please make sure to close the connection using `client.close()`.\n",
      "  warnings.warn(\n"
     ]
    }
   ],
   "source": [
    "\"\"\"# Correct way to set up headers for HuggingFace\n",
    "headers = {\n",
    "    \"X-HuggingFace-Api-Key\": huggingface_api_key,\n",
    "    \"Authorization\": f\"Bearer {huggingface_api_key}\"  # Add proper authorization\n",
    "}\n",
    "\n",
    "# Initialize Weaviate client with correct authentication\n",
    "client = weaviate.connect_to_weaviate_cloud(\n",
    "    cluster_url=WEAVIATE_URL,\n",
    "    auth_credentials=Auth.api_key(WEAVIATE_API_KEY),\n",
    "    headers=headers\n",
    ")\"\"\""
   ]
  },
  {
   "cell_type": "code",
   "execution_count": 7,
   "metadata": {},
   "outputs": [],
   "source": [
    "\n",
    "genai.configure(api_key=gemini_api_key)"
   ]
  },
  {
   "cell_type": "code",
   "execution_count": 43,
   "metadata": {},
   "outputs": [
    {
     "name": "stdout",
     "output_type": "stream",
     "text": [
      "Client is Ready? True\n"
     ]
    }
   ],
   "source": [
    "\n",
    "\n",
    "print(\"Client is Ready?\", client.is_ready())"
   ]
  },
  {
   "cell_type": "code",
   "execution_count": null,
   "metadata": {},
   "outputs": [
    {
     "data": {
      "text/plain": [
       "'# lets make sure its vectorizer is what the one we want\\ncollection = client.collections.create(\\n    name=\"WikipediaLangChain\",\\n    vectorizer_config=wvc.config.Configure.Vectorizer.text2vec_openai(),\\n    generative_config=wvc.config.Configure.Generative.openai(),\\n)'"
      ]
     },
     "execution_count": 8,
     "metadata": {},
     "output_type": "execute_result"
    }
   ],
   "source": [
    "from weaviate import classes as wvc\n",
    "\n",
    "\"\"\"# lets make sure its vectorizer is what the one we want\n",
    "collection = client.collections.create(\n",
    "    name=\"WikipediaLangChain\",\n",
    "    vectorizer_config=wvc.config.Configure.Vectorizer.text2vec_openai(),\n",
    "    generative_config=wvc.config.Configure.Generative.openai(),\n",
    ")\"\"\""
   ]
  },
  {
   "cell_type": "markdown",
   "metadata": {},
   "source": [
    "https://weaviate.io/developers/weaviate/model-providers/huggingface/embeddings"
   ]
  },
  {
   "cell_type": "code",
   "execution_count": 60,
   "metadata": {},
   "outputs": [],
   "source": [
    "client.collections.delete(\"WikipediaLangChain\")"
   ]
  },
  {
   "cell_type": "code",
   "execution_count": 61,
   "metadata": {},
   "outputs": [
    {
     "data": {
      "text/plain": [
       "'# Create collection with correct model configuration\\nclient.collections.create(\\n    \"WikipediaLangChain\",\\n    vectorizer_config=Configure.Vectorizer.none(),  # We\\'ll use our own vectorizer\\n)'"
      ]
     },
     "execution_count": 61,
     "metadata": {},
     "output_type": "execute_result"
    }
   ],
   "source": [
    "from weaviate.classes.config import Configure\n",
    "\n",
    "client.collections.create(\n",
    "    \"WikipediaLangChain\",\n",
    "    vectorizer_config= None,\n",
    "\n",
    ")\n",
    "\n",
    "\"\"\"# Create collection with correct model configuration\n",
    "client.collections.create(\n",
    "    \"WikipediaLangChain\",\n",
    "    vectorizer_config=Configure.Vectorizer.none(),  # We'll use our own vectorizer\n",
    ")\"\"\""
   ]
  },
  {
   "cell_type": "code",
   "execution_count": 10,
   "metadata": {},
   "outputs": [],
   "source": [
    "\"\"\"embedding_model_name = \"sentence-transformers/all-mpnet-base-v2\"\n",
    "\n",
    "embeddings = HuggingFaceEmbeddings(\n",
    "    model_name = embedding_model_name\n",
    ")\"\"\"\n",
    "\n",
    "embeddings = GoogleGenerativeAIEmbeddings(\n",
    "        model=\"models/embedding-001\",  # Google's text embedding model\n",
    "        google_api_key= gemini_api_key\n",
    "    )"
   ]
  },
  {
   "cell_type": "code",
   "execution_count": null,
   "metadata": {},
   "outputs": [],
   "source": []
  },
  {
   "cell_type": "code",
   "execution_count": 11,
   "metadata": {},
   "outputs": [],
   "source": [
    "\n",
    "text_splitter = RecursiveCharacterTextSplitter(chunk_size=400, chunk_overlap=50)\n"
   ]
  },
  {
   "cell_type": "code",
   "execution_count": 62,
   "metadata": {},
   "outputs": [
    {
     "name": "stdout",
     "output_type": "stream",
     "text": [
      "GOT 247 docs for Brazil\n",
      "GOT 274 docs for Netherlands\n"
     ]
    }
   ],
   "source": [
    "\n",
    "\n",
    "\n",
    "# import first article\n",
    "loader = PyPDFLoader(\"brazil-wikipedia-article-text.pdf\", extract_images=False)\n",
    "docs = loader.load_and_split(text_splitter)\n",
    "print(f\"GOT {len(docs)} docs for Brazil\")\n",
    "db = WeaviateVectorStore.from_documents(docs, embeddings, client=client, index_name=\"WikipediaLangChain\")\n",
    "\n",
    "\n",
    "# import second article\n",
    "loader = PyPDFLoader(\"netherlands-wikipedia-article-text.pdf\", extract_images=False)\n",
    "docs = loader.load_and_split(text_splitter)\n",
    "print(f\"GOT {len(docs)} docs for Netherlands\")\n",
    "db = WeaviateVectorStore.from_documents(docs, embeddings, client=client, index_name=\"WikipediaLangChain\")"
   ]
  },
  {
   "cell_type": "code",
   "execution_count": 63,
   "metadata": {},
   "outputs": [],
   "source": [
    "# Create vector store\n",
    "vector_store = WeaviateVectorStore(\n",
    "    client=client,\n",
    "    index_name=\"WikipediaLangChain\",\n",
    "    text_key=\"text\",\n",
    "    embedding=embeddings,  \n",
    "    attributes=[\"source\"]\n",
    ")"
   ]
  },
  {
   "cell_type": "code",
   "execution_count": 64,
   "metadata": {},
   "outputs": [
    {
     "data": {
      "text/plain": [
       "['da6c19e1-68d8-45be-a8a4-71bde6b34e77',\n",
       " '787711b5-9696-4489-9f3f-3142443e4b10',\n",
       " '2e528f8d-d081-4bc2-a80b-f5599a8d8f5d',\n",
       " '88919295-5a81-4e60-b436-9fac1875d768',\n",
       " 'f5fd5870-0013-43a4-8d98-cd8dbde8930e',\n",
       " '137dc2b0-8be9-44b4-a89c-9d151080189d',\n",
       " 'a7493614-cefe-4361-bab8-d1319acc26d3',\n",
       " 'b5f24e1a-c33f-4f6a-851e-2c1371ce92a6',\n",
       " 'c7fd1ea2-9500-4ba1-8741-015ce5529427',\n",
       " '45e69180-8f00-44c1-842f-725f412963a4',\n",
       " '65b9a76c-06b5-4242-8226-2b4ade9346b0',\n",
       " '023861f3-aea5-4822-8b0c-be8be267d7d4',\n",
       " '06e26714-64dc-4613-b56e-0f63e43e52b7',\n",
       " 'a14303cc-4b66-4f35-8b63-2eb8641c3da4',\n",
       " 'f870d840-26d3-4efb-9211-ff92c1499f55',\n",
       " '1b12b9f1-9bcd-45e4-a6c6-4820579ba9d1',\n",
       " '9f388af2-88cc-4777-ad30-302bafde2649',\n",
       " '692912b1-5017-4d04-95d8-118ddc3ef1f0',\n",
       " '8d6d75a3-63bb-48b9-8026-47c359622371',\n",
       " '21e951f2-05f3-4224-b37a-a2217eb2d49f',\n",
       " '404a0683-abbd-4140-a751-6d04f5e697df',\n",
       " '911a309c-4eda-499c-afb4-560af82f3f33',\n",
       " 'c615e8b3-e56e-4b4e-96d8-f99033d29f3c',\n",
       " '11e7681e-eff8-4191-aad8-9a3ea556f7b9',\n",
       " 'd97c8938-4af3-428e-bab0-220245f7469a',\n",
       " '365bdd31-9c6b-4813-b75f-7332c290f905',\n",
       " '2f308a56-08c6-41bf-9267-d8d5f12b8983',\n",
       " '009f30d4-8c19-42d8-8624-59f19c17611f',\n",
       " '31dfa9e0-1e01-4866-98a6-4a9007795f70',\n",
       " 'ee967ac5-0ff0-49fb-aab3-c59b9da47bcb',\n",
       " 'db7052b8-de97-4ccb-9b49-27120bb8e89c',\n",
       " '01dae120-d9aa-4fc8-a6c8-e297192cdfac',\n",
       " '86980610-99d7-46d2-9f12-4bfeaff5b664',\n",
       " '35779f8e-d7cb-4d70-9a05-16e348f9f7e1',\n",
       " 'd389dc1f-c438-40ce-9a08-94a662634e67',\n",
       " '436ee594-2347-4aca-8dd0-89c092f158d9',\n",
       " '7cf1f0ac-d416-4799-8877-9dc2ddd0c6e9',\n",
       " '2f95d6ca-b5d6-4c32-8cb9-a252d320b1c8',\n",
       " 'fe7033aa-710f-47d8-ab95-78fcd1e44ea1',\n",
       " 'e157379f-b330-4dda-b22f-63938ef0bd7a',\n",
       " '4d804be8-30e8-4c30-a175-00fc2f9c6b2f',\n",
       " '6379aa74-4aa0-4ec4-b08c-e92afcfd8245',\n",
       " '7d125344-838a-49b0-96cf-0a8a8871418a',\n",
       " '370d2a16-5aaf-4c6e-b853-5fc33cef0fb0',\n",
       " 'ae0edb50-70f2-4ca4-8477-58100b5f94d5',\n",
       " 'cf32c2de-c1e9-4203-b972-dd1f608380f8',\n",
       " 'daa06ef9-5806-4c96-8175-de851ac66971',\n",
       " '4916bbed-2716-4e6b-9d48-475524c1624d',\n",
       " '2c00a8e5-5099-43c4-8c07-dbdea93abd55',\n",
       " 'bbab5ad9-8601-487f-98cf-e79e2c4ab664',\n",
       " '404088f0-3f00-49a6-a49f-4b4c20a1e2de',\n",
       " 'eabe5395-8408-4efb-9081-2dcbd730bf9c',\n",
       " '7f0ad7ab-8e23-402f-b583-2d98af2d772e',\n",
       " '2e41deaf-794a-4d76-8a5e-a3e392b88280',\n",
       " '9ae1a65c-41e5-4987-b690-df069f6ea393',\n",
       " 'dc15feeb-b22d-4691-b1ae-c6815025bc63',\n",
       " '027225c5-9bd9-48ca-9cc6-7493bb3213d5',\n",
       " '34a8b3b6-4b5f-4351-b455-da5a347ec216',\n",
       " '0894c276-2a0f-4ff8-bbbe-aaebfa1e1fd5',\n",
       " 'a88f7e10-f176-4b8b-b8b2-3458b306f76e',\n",
       " 'b3b11429-1529-4d7b-821d-03adc7bfe390',\n",
       " '521b25cc-abaf-4703-86d5-1b23644806f8',\n",
       " '96d39e82-b8b1-4883-8a2f-d5b2ad15501a',\n",
       " '9ad40e00-b89a-48f6-9fbf-227f9889db72',\n",
       " '516cacce-cec8-4f1c-ae92-0a5fbe214788',\n",
       " '98ac61a0-cd89-410f-9214-bbce229b2bcb',\n",
       " 'ffd8311c-2b4f-44cc-819a-8cc32f8d8fa8',\n",
       " '475afc34-9dbe-49ab-ba47-f1a70445402a',\n",
       " 'b0a453ee-86b9-4184-abeb-06f11cc4669f',\n",
       " '0f050581-694d-4e80-9bdc-0d4011f31d70',\n",
       " '3821a5f6-5255-4aa1-84af-4b51db405b43',\n",
       " '61df6bdc-835a-4cdf-82f4-22252ca8cf15',\n",
       " 'ae453ce6-f193-4a19-92d6-93ac3f8181d4',\n",
       " '0cd03362-267f-4d70-8d93-5fa110ba4d12',\n",
       " '131b5d38-24f1-4611-b2c4-0ac64604c1d1',\n",
       " '42d62f9c-478b-4e55-8e8a-797cb6f54ec6',\n",
       " 'e2bd4b84-0f64-4058-8eb1-94ba87196d7f',\n",
       " '0c43180a-99e1-4aa5-8048-3255ea002397',\n",
       " '0df691ac-8663-4437-a6c8-13f647de6352',\n",
       " '2d5eb6fb-fd77-4f15-b0cf-d3546baeac41',\n",
       " 'ee8b222d-2a85-434a-97a1-cd8dc5feea9f',\n",
       " 'dbb1d016-71bd-4258-a101-4be67faa9f09',\n",
       " 'f8a1021b-5a3d-4cc2-9f86-c010e8ecded3',\n",
       " '0d2262cc-3352-49a4-bd95-de3cc19a3644',\n",
       " 'd52e590f-b1da-41d1-b4e1-837250a51a27',\n",
       " '700dbbd0-b5ec-4cee-99e5-2b560f21a0ab',\n",
       " '89deb4ff-0703-4871-bc93-6c3fb3d10527',\n",
       " '03ce65a4-7cce-4d0e-bd84-4e4ce1afaf25',\n",
       " '2dafeedb-d2c8-45df-8d57-08999380cfb1',\n",
       " '4ff858d7-bc61-48a2-912f-4cd4c2796a25',\n",
       " 'c578d187-6809-428a-9274-fa5568919ec3',\n",
       " '3af33da6-0e91-4724-8bf9-0585f8febead',\n",
       " '23d10c06-e64a-4803-b163-a129e308bd2d',\n",
       " 'cbca838e-de13-490f-af4c-68c3e4ee098f',\n",
       " '86dfcb6b-cdfc-4297-a945-a16e86489516',\n",
       " '0a1c3f93-c8fc-4035-b6da-3a1620d81e59',\n",
       " 'bdecb116-da89-4566-9ccc-18406f083664',\n",
       " 'd224dfb2-8174-4817-9fc0-a253191ef55a',\n",
       " '81ba1945-1693-43dd-825d-74a400f8b075',\n",
       " '47ec540f-5ab5-46ab-befc-e1584cd2cf30',\n",
       " 'aea47c07-7d7c-477f-ad2e-516e6e5c6572',\n",
       " '203b3daf-230f-4067-8f62-445634e9077f',\n",
       " 'e52d032d-2a7e-4511-9ed3-b0aef394c86d',\n",
       " 'fef60f7a-2a97-4bde-a696-9d3a3d838445',\n",
       " 'dc0915c7-fe61-4ee3-91bc-227905a6b768',\n",
       " '05aca71b-83b1-4e4d-90ed-61c4f86aec4c',\n",
       " '42ac9f4e-8512-4b83-a2c6-29e91e6425e5',\n",
       " '139d7b54-bed5-492f-8e49-875b48259152',\n",
       " 'a6c4d4c5-c8bd-4054-87dd-b00328787495',\n",
       " 'ebc23d13-4084-4814-ad25-9fbba8e193e1',\n",
       " 'c7537da3-5e39-457d-b9e2-938b7658e673',\n",
       " '2cef3f55-b8bd-4f9b-b51b-28e08a7c6e71',\n",
       " 'c6a618cf-d8f5-45b2-a9d0-7588f175aa82',\n",
       " 'c2bafe99-bc26-4e43-a53d-1fda15425645',\n",
       " 'a86fa541-b139-406d-9cd7-1d77e04db71d',\n",
       " '3b7fd7fd-390d-47fb-9f90-5b4f97bad5a8',\n",
       " 'ac930674-80c7-44a4-8f9f-ec16031932fa',\n",
       " '69461a04-636d-4bfd-9278-dd269d28f736',\n",
       " '99ef3aff-4b3b-4414-8540-c8ee82c2c6e6',\n",
       " '4036d2ec-fd27-4fbd-8ebd-711fa27ba794',\n",
       " '7f7ddf7f-a032-4a39-a9a3-5ceed460933e',\n",
       " '9c3dd249-001f-430b-9f98-f7d8ac043d0c',\n",
       " 'ba05372e-d088-4c33-8c6f-fbeae6a8e74b',\n",
       " '18de3ac7-b438-49b7-9a5f-065d8564dd31',\n",
       " '2fb12819-b898-4945-a09c-08b09aa04de5',\n",
       " '31d7976a-9d99-4d8e-a25f-a2ad29ff97cd',\n",
       " '0c5b824d-83f5-4c73-8c74-2e42604c26cf',\n",
       " '53109927-f8c1-491a-b0c5-70827590ab3d',\n",
       " '64ff0296-71de-4090-8a8a-ddf6900019e1',\n",
       " 'cdf48c5d-95a9-47c0-9fc5-07eff1eb00b9',\n",
       " '22103fff-cf24-4af4-ad7f-398d30642438',\n",
       " 'e23340ef-2836-4fc7-84a2-d59f318bfcbc',\n",
       " '1a372585-6c38-4074-b486-3aa9d878d47a',\n",
       " 'f9fd127a-1001-42d2-a524-24095a6cb3fa',\n",
       " '5992a043-9e40-4890-b3cc-ffb65f93f555',\n",
       " '520bf93c-ac4a-44b2-a761-ab0ca506a6da',\n",
       " 'e67d772c-d1db-497c-8718-bc6889dc2323',\n",
       " '8094b4fc-2cc9-4a7f-9a4a-de09f876e57d',\n",
       " '3065c4a9-1102-41e5-990f-8b34cda8252e',\n",
       " 'b761f44d-1e98-45fe-9a5d-44a5fa2a3b5d',\n",
       " '4b9f2076-2cb3-4152-8353-769f047e4328',\n",
       " 'aced4bb8-2bbf-4113-84ad-d2d97fa32885',\n",
       " '4d4058c5-79dc-4b58-84ee-4140f5b5bc4b',\n",
       " 'fa1ccd4a-aba6-4a1e-bd3e-a6ee428d7af8',\n",
       " '2fe634d5-727d-461c-bc89-8b05e2516768',\n",
       " '0562388d-e99a-4c73-89e8-7f29fdd8d090',\n",
       " '71fe1e24-148a-4ce2-9d8e-3b2e2879d64d',\n",
       " '55fde848-303f-40b2-827a-aa96b7d72574',\n",
       " 'e299d293-2579-450a-98da-e85a417a2d1d',\n",
       " 'fb2da2a6-7cc5-4295-82ae-30a42a1919a2',\n",
       " '50dc8607-c550-4e88-b7d4-74e94544ebca',\n",
       " '8fc171ed-d3a2-43d2-a862-c6b3d03dd59b',\n",
       " '15053d85-f1ab-4ef3-ac02-0d1d2edde2a2',\n",
       " '146308d1-0bbb-4502-8b9b-4ce94358763d',\n",
       " '34ad8f0d-d1bf-4f46-b96c-8582d8818d71',\n",
       " '1cd1abaa-4f11-406c-ba9b-2f602c7c03ea',\n",
       " '4a55f77b-350d-429c-aa4a-e3ef579d6b4a',\n",
       " '4371907f-49a6-466d-8fc0-07714564a1a0',\n",
       " '7d24bfb0-9594-4e57-8438-1eac072f2a6d',\n",
       " '18de0b95-a079-4ac9-9350-410d0c9e43a4',\n",
       " '3caf6b82-bf95-406b-84ff-02f7e644cf9b',\n",
       " '53d5439b-c02c-49a0-bfd8-06ede13a5369',\n",
       " 'be15338a-3931-478c-a7a5-97a4b0e867ef',\n",
       " '0c586773-72bd-4ce6-b2fa-8ade927d4734',\n",
       " '10021550-6099-4f6f-8ecf-a8e4f6869f2c',\n",
       " '5cf9b423-ceee-4231-b8aa-e021897aff68',\n",
       " '1dbefb45-2ba2-4fee-8886-7a46f389a674',\n",
       " 'a69d3753-493a-4d5f-96de-719828ac0bae',\n",
       " '71e56578-a4f6-4399-9f5d-d7ce9ed1dc49',\n",
       " '20fb558f-229d-4ca4-b06c-4ceb887a0669',\n",
       " 'd9fea771-a2b8-4d8c-8833-8880255ac300',\n",
       " 'cc10bd06-8d8c-4877-a54b-a7c7616f71fc',\n",
       " '0f527bf2-c8b2-4c61-ad4e-b4ead078d4d9',\n",
       " '972ba81e-e1a3-47c6-81c1-96dea13a1675',\n",
       " '9bda4f97-d568-43bd-be3e-004a3da09fa5',\n",
       " '5f26dd80-bcae-421f-8c20-10d471b5c008',\n",
       " '3ebd2cf4-c150-40a7-8ad0-09a4aade639c',\n",
       " 'ea64985e-12dc-4494-9265-8c2fa300c0a5',\n",
       " 'edfef1c1-2a2d-4657-83c4-28ceee0275aa',\n",
       " '1c50bd3b-0ee8-4207-a527-e231e171b4b2',\n",
       " 'e59b3dd9-b5f3-4bac-a1c4-8cd177d66ed2',\n",
       " 'a32abb91-b94b-47a5-a974-b2afbb440e1d',\n",
       " 'c915bede-4d5d-4104-9e52-06f737b0d9b2',\n",
       " 'a63a7974-cce7-49b8-920a-c99cc6470186',\n",
       " '8a8b712e-47d0-496d-8655-a4b7af2fecfc',\n",
       " '35839289-4eff-48cf-8cd0-921a2a41c5d2',\n",
       " '170c7986-c089-4040-bdb4-f844cbe9d28b',\n",
       " '54cff521-d7d9-4a44-bff2-97ccaeaeb88e',\n",
       " 'd89c6ecf-fd28-424e-af2b-f2224da3e7c5',\n",
       " '60241c32-2f9a-4565-99a7-565e053eaad2',\n",
       " '58ddcbbf-fd80-4051-a1bd-2244dae27f31',\n",
       " '630ef2f6-17a6-4513-ad1c-e086aebbc07e',\n",
       " '71504e4b-347c-4577-bdbf-d783f555e164',\n",
       " '4ba4846c-02f2-4664-b281-aaff75e9b4c5',\n",
       " 'b22f296f-a7e4-4a56-8e5e-d45ac9dc31da',\n",
       " '0481449c-1b40-48d2-b763-21456ed6fc13',\n",
       " '2529d7d0-dc83-4213-89d6-bc53215fafef',\n",
       " '5cbd92ff-a10e-4f26-92c0-d91bc198b8d0',\n",
       " 'ea8d6dd3-271f-47e4-adf2-ffec44b01984',\n",
       " '828c1f1c-c4a3-4e53-8d2d-8084703c822d',\n",
       " 'c243a152-fe05-4282-9291-8c2f177d025e',\n",
       " '8a92c110-407c-443f-81d4-9ee78cd02792',\n",
       " '4d9d0823-97b4-4f4b-9985-c748ecbbaf23',\n",
       " '0e3e0053-1a4f-43c0-8d07-b64b7c3af5ec',\n",
       " '7da4af61-d877-4eb2-85e7-90007160f4ff',\n",
       " '1f3ce9c0-2903-4692-b83f-c2f955cb978b',\n",
       " '1c153b32-30c9-4488-8899-788632d8552f',\n",
       " '1f3b213f-ac26-4f04-b0ed-48260355081c',\n",
       " '2ec86e67-ad6f-4029-8a78-06223839d043',\n",
       " '689558b6-bb1a-4229-ba5d-2b0b09497d9e',\n",
       " '657b7344-cea8-4753-bb8b-9ffecb027455',\n",
       " 'b0ff8bbb-fc93-4167-8adc-4805689afd4f',\n",
       " 'dc01ae02-d7cb-4f80-8134-0ae8ed388bb9',\n",
       " 'e9d1139b-e021-4b95-aff8-42fa89e8efd8',\n",
       " 'da00c836-e6e3-4bdc-b7e4-d1be78f46310',\n",
       " 'b965837a-31bc-4fe6-92e7-4fce0954141a',\n",
       " '7905b527-9a69-4638-a4dc-68712bb6e298',\n",
       " '8d3c4c27-6a04-437f-b99a-f4348f8ef22a',\n",
       " 'd3c0339b-5e29-476d-a7a8-df8f4d017ee1',\n",
       " '0c78480c-d207-4381-812d-988646e48b02',\n",
       " 'ccb72d76-7db4-4886-a464-dd54dd716376',\n",
       " '96bc605f-183e-41a2-89f0-d1bdce6ca545',\n",
       " '6a487fac-4cf5-44c3-b5d1-4b77d797b4a8',\n",
       " '911d8a03-8e50-4894-ad5d-482bf3272483',\n",
       " 'ab0e1f4e-b1ab-4c43-8bb0-be522971fb56',\n",
       " 'aa6ca798-0c98-45b1-829b-c418a4c92ca0',\n",
       " '8e489f65-b8af-4304-91cb-860eb530ccb6',\n",
       " 'ba088cca-d573-4eee-9932-4aed1a081d6f',\n",
       " '204b4447-9dd6-45cc-99c6-6b89b12b13e2',\n",
       " '485ced57-5ce4-4f52-9b40-c3376f7924e1',\n",
       " '9b28c138-723e-45ed-a76f-87e2c8d41c3c',\n",
       " '6a9ca55b-3b3b-4c1b-ad6d-44cf7563bce6',\n",
       " '738a1c73-b50a-474f-89df-13a2c7ddbd22',\n",
       " '13019039-97fd-439e-bf8f-73c9e626ff38',\n",
       " '3d879940-da60-4ff4-9802-26a91057c430',\n",
       " 'e339bdb7-307b-4b15-8ede-6d87c940a773',\n",
       " '6bcd0507-a0e4-4873-800f-92481ad530b8',\n",
       " '2c8e36f4-da89-4d91-ac1e-ee3dac3253d0',\n",
       " 'e4e9f43d-ec71-44fe-a30f-a2fd13c9baa0',\n",
       " '437b6948-b1e0-4170-bf19-4ec3d1c58da3',\n",
       " 'aaf41abe-0463-4b34-b2c6-c488dfc9dfc2',\n",
       " '8cc5d66a-eeba-417c-b419-a7df6642e9c0',\n",
       " 'f53e684e-e73a-4604-becf-08389c582b6f',\n",
       " '5db5edec-70e6-4500-9115-c954809384b4',\n",
       " '66436fad-3e30-4ddc-b0bf-e6995a67551c',\n",
       " 'b40eb661-1950-4b53-ad89-ff8cd20c98ec',\n",
       " 'a5b81c41-48f5-43ee-a25b-6e62bbc13caf',\n",
       " '8420399c-e4b7-46a4-8d57-6d989730dc1e',\n",
       " '491ae622-16b7-45d7-adc8-31f03944fa21',\n",
       " '01cc097d-c4ba-4e88-9958-2e65756beda6',\n",
       " 'cdfa3aba-c4fb-4c75-8369-72b65ff310cc',\n",
       " '7c629d6d-7257-4dd7-9759-dd43d287a498',\n",
       " '385ce484-7338-4684-a67e-acad9819ca7e',\n",
       " '4dd85497-419f-4389-a97f-e9d007ab03e2',\n",
       " 'e88121b5-3384-43c6-b3ed-b866fd932f37',\n",
       " 'f41c32cb-ccd1-4075-9ca8-bdc779a7eedb',\n",
       " '92f53253-eb3a-49f6-b8b9-a5e773982536',\n",
       " 'b2d1bd2a-b6f2-47d3-a9e9-90a21ae6e188',\n",
       " '940081af-64cd-4246-83e1-4605dc4b8659',\n",
       " 'a4a6f0a7-28cf-4b60-9779-18976644a827',\n",
       " '3ee8135c-857f-45df-83d1-59180c21cf5d',\n",
       " '1a0f4f7b-84cd-4d78-bd52-eed39d610109',\n",
       " '2353af32-7201-42f3-9000-62d878385d83',\n",
       " '53cd2c1b-1689-42a6-a8cb-9c6d43c514bf',\n",
       " 'da1389ba-a1d0-49d5-87d5-1a819290baf8',\n",
       " '8e18100a-d679-4483-ad1a-40439e6f74ad',\n",
       " '81fd15de-3b8f-4ef6-8eb4-d1be0346239d',\n",
       " 'e746a169-d9cc-4023-b54b-b24d7d012c30',\n",
       " '18f47bbf-7ab4-426e-9d3e-57a40d76f244',\n",
       " '43d9fe57-e2b4-4fa6-a612-862cd88aca97',\n",
       " 'ebc64b5c-d5d4-4c52-b358-cd354ae19dcc',\n",
       " '82633a73-d971-4da4-8bf5-d468db321c94',\n",
       " '3226ccd8-d6b2-414a-8f8c-a3b752a70167',\n",
       " 'c90ddb22-eb98-4e27-86f5-575a7d714fee']"
      ]
     },
     "execution_count": 64,
     "metadata": {},
     "output_type": "execute_result"
    }
   ],
   "source": [
    "vector_store.add_documents(docs)\n"
   ]
  },
  {
   "cell_type": "code",
   "execution_count": 66,
   "metadata": {},
   "outputs": [
    {
     "data": {
      "text/plain": [
       "['_CollectionBase__consistency_level',\n",
       " '_CollectionBase__properties',\n",
       " '_CollectionBase__references',\n",
       " '_CollectionBase__tenant',\n",
       " '_Collection__cluster',\n",
       " '__annotations__',\n",
       " '__class__',\n",
       " '__class_getitem__',\n",
       " '__delattr__',\n",
       " '__dict__',\n",
       " '__dir__',\n",
       " '__doc__',\n",
       " '__eq__',\n",
       " '__format__',\n",
       " '__ge__',\n",
       " '__getattribute__',\n",
       " '__gt__',\n",
       " '__hash__',\n",
       " '__init__',\n",
       " '__init_subclass__',\n",
       " '__le__',\n",
       " '__len__',\n",
       " '__lt__',\n",
       " '__module__',\n",
       " '__ne__',\n",
       " '__new__',\n",
       " '__orig_bases__',\n",
       " '__orig_class__',\n",
       " '__parameters__',\n",
       " '__reduce__',\n",
       " '__reduce_ex__',\n",
       " '__repr__',\n",
       " '__setattr__',\n",
       " '__sizeof__',\n",
       " '__slots__',\n",
       " '__str__',\n",
       " '__subclasshook__',\n",
       " '__weakref__',\n",
       " '_config',\n",
       " '_connection',\n",
       " '_is_protocol',\n",
       " '_query',\n",
       " '_validate_arguments',\n",
       " 'aggregate',\n",
       " 'backup',\n",
       " 'batch',\n",
       " 'config',\n",
       " 'consistency_level',\n",
       " 'data',\n",
       " 'exists',\n",
       " 'generate',\n",
       " 'iterator',\n",
       " 'name',\n",
       " 'query',\n",
       " 'shards',\n",
       " 'tenant',\n",
       " 'tenants',\n",
       " 'with_consistency_level',\n",
       " 'with_tenant']"
      ]
     },
     "execution_count": 66,
     "metadata": {},
     "output_type": "execute_result"
    }
   ],
   "source": [
    "collection = client.collections.get(\"WikipediaLangChain\")\n",
    "\n",
    "dir(collection)"
   ]
  },
  {
   "cell_type": "code",
   "execution_count": 67,
   "metadata": {},
   "outputs": [],
   "source": [
    "# collection\n",
    "collection = client.collections.get(\"WikipediaLangChain\")"
   ]
  },
  {
   "cell_type": "markdown",
   "metadata": {},
   "source": [
    "let's count how many objects we have in total"
   ]
  },
  {
   "cell_type": "code",
   "execution_count": 68,
   "metadata": {},
   "outputs": [
    {
     "name": "stdout",
     "output_type": "stream",
     "text": [
      "AggregateReturn(properties={}, total_count=795)\n"
     ]
    }
   ],
   "source": [
    "response = collection.aggregate.over_all(total_count=True)\n",
    "print(response)"
   ]
  },
  {
   "cell_type": "code",
   "execution_count": 69,
   "metadata": {},
   "outputs": [
    {
     "name": "stdout",
     "output_type": "stream",
     "text": [
      "netherlands-wikipedia-article-text.pdf 548\n",
      "brazil-wikipedia-article-text.pdf 247\n"
     ]
    }
   ],
   "source": [
    "# Group by source\n",
    "response = collection.aggregate.over_all(group_by=\"source\")\n",
    "for group in response.groups:\n",
    "    print(group.grouped_by.value, group.total_count)"
   ]
  },
  {
   "cell_type": "code",
   "execution_count": 70,
   "metadata": {},
   "outputs": [
    {
     "name": "stdout",
     "output_type": "stream",
     "text": [
      "dict_keys(['text', 'page', 'source'])\n",
      "netherlands-wikipedia-article-text.pdf\n",
      "6.0\n",
      "with 1.30 m (4.3 ft) of additional flood protection. Climate change will not only threaten the Netherlands from the seaside but could\n",
      "also alter rainfall patterns and river run-off. To protect the country from river flooding, another programme is already being executed.\n"
     ]
    }
   ],
   "source": [
    "# View object properties\n",
    "object = collection.query.fetch_objects(limit=1).objects[0]\n",
    "print(object.properties.keys())\n",
    "print(object.properties.get(\"source\"))\n",
    "print(object.properties.get(\"page\"))\n",
    "print(object.properties.get(\"text\"))"
   ]
  },
  {
   "cell_type": "code",
   "execution_count": 71,
   "metadata": {},
   "outputs": [],
   "source": [
    "# Query in French using Gemini\n",
    "generateTask = \"Quelle est la nourriture traditionnelle de ce pays?\"\n",
    "source_file = \"brazil-wikipedia-article-text.pdf\""
   ]
  },
  {
   "cell_type": "code",
   "execution_count": 72,
   "metadata": {},
   "outputs": [],
   "source": [
    "model = ChatGoogleGenerativeAI(\n",
    "    model=\"gemini-pro\", \n",
    "    google_api_key= gemini_api_key\n",
    ")"
   ]
  },
  {
   "cell_type": "code",
   "execution_count": 73,
   "metadata": {},
   "outputs": [
    {
     "data": {
      "text/plain": [
       "['ConsistencyLevel',\n",
       " '__all__',\n",
       " '__builtins__',\n",
       " '__cached__',\n",
       " '__doc__',\n",
       " '__file__',\n",
       " '__loader__',\n",
       " '__name__',\n",
       " '__package__',\n",
       " '__path__',\n",
       " '__spec__',\n",
       " 'aggregate',\n",
       " 'batch',\n",
       " 'config',\n",
       " 'data',\n",
       " 'generics',\n",
       " 'init',\n",
       " 'query',\n",
       " 'rbac',\n",
       " 'tenants']"
      ]
     },
     "execution_count": 73,
     "metadata": {},
     "output_type": "execute_result"
    }
   ],
   "source": [
    "dir(wvc)"
   ]
  },
  {
   "cell_type": "code",
   "execution_count": 74,
   "metadata": {},
   "outputs": [],
   "source": [
    "\n",
    "generateTask = \"Quelle est la nourriture traditionnelle de ce pays?\"\n",
    "# lets filter it out, and only use this specific file\n",
    "source_file = \"brazil-wikipedia-article-text.pdf\"\n",
    "#source_file = \"netherlands-wikipedia-article-text.pdf\""
   ]
  },
  {
   "cell_type": "code",
   "execution_count": 78,
   "metadata": {},
   "outputs": [
    {
     "ename": "WeaviateInvalidInputError",
     "evalue": "Invalid input provided: Argument 'return_metadata' must be one of: [typing.Sequence[str], <class 'weaviate.collections.classes.grpc.MetadataQuery'>, None], but got <class 'bool'>.",
     "output_type": "error",
     "traceback": [
      "\u001b[1;31m---------------------------------------------------------------------------\u001b[0m",
      "\u001b[1;31mWeaviateInvalidInputError\u001b[0m                 Traceback (most recent call last)",
      "Cell \u001b[1;32mIn[78], line 2\u001b[0m\n\u001b[0;32m      1\u001b[0m query_embedding \u001b[38;5;241m=\u001b[39m embeddings\u001b[38;5;241m.\u001b[39membed_query(\u001b[38;5;124m\"\u001b[39m\u001b[38;5;124mtraditional food\u001b[39m\u001b[38;5;124m\"\u001b[39m)\n\u001b[1;32m----> 2\u001b[0m query \u001b[38;5;241m=\u001b[39m \u001b[43mcollection\u001b[49m\u001b[38;5;241;43m.\u001b[39;49m\u001b[43mquery\u001b[49m\u001b[38;5;241;43m.\u001b[39;49m\u001b[43mnear_vector\u001b[49m\u001b[43m(\u001b[49m\n\u001b[0;32m      3\u001b[0m \u001b[43m    \u001b[49m\u001b[43mnear_vector\u001b[49m\u001b[38;5;241;43m=\u001b[39;49m\u001b[43mquery_embedding\u001b[49m\u001b[43m,\u001b[49m\n\u001b[0;32m      4\u001b[0m \u001b[43m    \u001b[49m\u001b[43mlimit\u001b[49m\u001b[38;5;241;43m=\u001b[39;49m\u001b[38;5;241;43m10\u001b[39;49m\u001b[43m,\u001b[49m\n\u001b[0;32m      5\u001b[0m \u001b[43m    \u001b[49m\u001b[43mreturn_metadata\u001b[49m\u001b[38;5;241;43m=\u001b[39;49m\u001b[38;5;28;43;01mTrue\u001b[39;49;00m\n\u001b[0;32m      6\u001b[0m \u001b[43m)\u001b[49m\n",
      "File \u001b[1;32mc:\\Users\\dhanu\\.conda\\envs\\idk_gpu\\lib\\site-packages\\weaviate\\syncify.py:23\u001b[0m, in \u001b[0;36mconvert.<locals>.sync_method\u001b[1;34m(self, __new_name, *args, **kwargs)\u001b[0m\n\u001b[0;32m     20\u001b[0m \u001b[38;5;129m@wraps\u001b[39m(method)  \u001b[38;5;66;03m# type: ignore\u001b[39;00m\n\u001b[0;32m     21\u001b[0m \u001b[38;5;28;01mdef\u001b[39;00m \u001b[38;5;21msync_method\u001b[39m(\u001b[38;5;28mself\u001b[39m, \u001b[38;5;241m*\u001b[39margs, __new_name\u001b[38;5;241m=\u001b[39mnew_name, \u001b[38;5;241m*\u001b[39m\u001b[38;5;241m*\u001b[39mkwargs):\n\u001b[0;32m     22\u001b[0m     async_func \u001b[38;5;241m=\u001b[39m \u001b[38;5;28mgetattr\u001b[39m(\u001b[38;5;28mcls\u001b[39m, __new_name)\n\u001b[1;32m---> 23\u001b[0m     \u001b[38;5;28;01mreturn\u001b[39;00m _EventLoopSingleton\u001b[38;5;241m.\u001b[39mget_instance()\u001b[38;5;241m.\u001b[39mrun_until_complete(\n\u001b[0;32m     24\u001b[0m         async_func, \u001b[38;5;28mself\u001b[39m, \u001b[38;5;241m*\u001b[39margs, \u001b[38;5;241m*\u001b[39m\u001b[38;5;241m*\u001b[39mkwargs\n\u001b[0;32m     25\u001b[0m     )\n",
      "File \u001b[1;32mc:\\Users\\dhanu\\.conda\\envs\\idk_gpu\\lib\\site-packages\\weaviate\\event_loop.py:42\u001b[0m, in \u001b[0;36m_EventLoop.run_until_complete\u001b[1;34m(self, f, *args, **kwargs)\u001b[0m\n\u001b[0;32m     40\u001b[0m     \u001b[38;5;28;01mraise\u001b[39;00m WeaviateClosedClientError()\n\u001b[0;32m     41\u001b[0m fut \u001b[38;5;241m=\u001b[39m asyncio\u001b[38;5;241m.\u001b[39mrun_coroutine_threadsafe(f(\u001b[38;5;241m*\u001b[39margs, \u001b[38;5;241m*\u001b[39m\u001b[38;5;241m*\u001b[39mkwargs), \u001b[38;5;28mself\u001b[39m\u001b[38;5;241m.\u001b[39mloop)\n\u001b[1;32m---> 42\u001b[0m \u001b[38;5;28;01mreturn\u001b[39;00m \u001b[43mfut\u001b[49m\u001b[38;5;241;43m.\u001b[39;49m\u001b[43mresult\u001b[49m\u001b[43m(\u001b[49m\u001b[43m)\u001b[49m\n",
      "File \u001b[1;32mc:\\Users\\dhanu\\.conda\\envs\\idk_gpu\\lib\\concurrent\\futures\\_base.py:458\u001b[0m, in \u001b[0;36mFuture.result\u001b[1;34m(self, timeout)\u001b[0m\n\u001b[0;32m    456\u001b[0m     \u001b[38;5;28;01mraise\u001b[39;00m CancelledError()\n\u001b[0;32m    457\u001b[0m \u001b[38;5;28;01melif\u001b[39;00m \u001b[38;5;28mself\u001b[39m\u001b[38;5;241m.\u001b[39m_state \u001b[38;5;241m==\u001b[39m FINISHED:\n\u001b[1;32m--> 458\u001b[0m     \u001b[38;5;28;01mreturn\u001b[39;00m \u001b[38;5;28;43mself\u001b[39;49m\u001b[38;5;241;43m.\u001b[39;49m\u001b[43m__get_result\u001b[49m\u001b[43m(\u001b[49m\u001b[43m)\u001b[49m\n\u001b[0;32m    459\u001b[0m \u001b[38;5;28;01melse\u001b[39;00m:\n\u001b[0;32m    460\u001b[0m     \u001b[38;5;28;01mraise\u001b[39;00m \u001b[38;5;167;01mTimeoutError\u001b[39;00m()\n",
      "File \u001b[1;32mc:\\Users\\dhanu\\.conda\\envs\\idk_gpu\\lib\\concurrent\\futures\\_base.py:403\u001b[0m, in \u001b[0;36mFuture.__get_result\u001b[1;34m(self)\u001b[0m\n\u001b[0;32m    401\u001b[0m \u001b[38;5;28;01mif\u001b[39;00m \u001b[38;5;28mself\u001b[39m\u001b[38;5;241m.\u001b[39m_exception:\n\u001b[0;32m    402\u001b[0m     \u001b[38;5;28;01mtry\u001b[39;00m:\n\u001b[1;32m--> 403\u001b[0m         \u001b[38;5;28;01mraise\u001b[39;00m \u001b[38;5;28mself\u001b[39m\u001b[38;5;241m.\u001b[39m_exception\n\u001b[0;32m    404\u001b[0m     \u001b[38;5;28;01mfinally\u001b[39;00m:\n\u001b[0;32m    405\u001b[0m         \u001b[38;5;66;03m# Break a reference cycle with the exception in self._exception\u001b[39;00m\n\u001b[0;32m    406\u001b[0m         \u001b[38;5;28mself\u001b[39m \u001b[38;5;241m=\u001b[39m \u001b[38;5;28;01mNone\u001b[39;00m\n",
      "File \u001b[1;32mc:\\Users\\dhanu\\.conda\\envs\\idk_gpu\\lib\\site-packages\\weaviate\\collections\\queries\\near_vector\\query.py:103\u001b[0m, in \u001b[0;36m_NearVectorQueryAsync.near_vector\u001b[1;34m(self, near_vector, certainty, distance, limit, offset, auto_limit, filters, group_by, rerank, target_vector, include_vector, return_metadata, return_properties, return_references)\u001b[0m\n\u001b[0;32m     27\u001b[0m \u001b[38;5;28;01masync\u001b[39;00m \u001b[38;5;28;01mdef\u001b[39;00m \u001b[38;5;21mnear_vector\u001b[39m(\n\u001b[0;32m     28\u001b[0m     \u001b[38;5;28mself\u001b[39m,\n\u001b[0;32m     29\u001b[0m     near_vector: NearVectorInputType,\n\u001b[1;32m   (...)\u001b[0m\n\u001b[0;32m     43\u001b[0m     return_references: Optional[ReturnReferences[TReferences]] \u001b[38;5;241m=\u001b[39m \u001b[38;5;28;01mNone\u001b[39;00m,\n\u001b[0;32m     44\u001b[0m ) \u001b[38;5;241m-\u001b[39m\u001b[38;5;241m>\u001b[39m QuerySearchReturnType[Properties, References, TProperties, TReferences]:\n\u001b[0;32m     45\u001b[0m \u001b[38;5;250m    \u001b[39m\u001b[38;5;124;03m\"\"\"Search for objects by vector in this collection using and vector-based similarity search.\u001b[39;00m\n\u001b[0;32m     46\u001b[0m \n\u001b[0;32m     47\u001b[0m \u001b[38;5;124;03m    See the [docs](https://weaviate.io/developers/weaviate/search/similarity) for a more detailed explanation.\u001b[39;00m\n\u001b[1;32m   (...)\u001b[0m\n\u001b[0;32m     90\u001b[0m \u001b[38;5;124;03m            If the request to the Weaviate server fails.\u001b[39;00m\n\u001b[0;32m     91\u001b[0m \u001b[38;5;124;03m    \"\"\"\u001b[39;00m\n\u001b[0;32m     92\u001b[0m     res \u001b[38;5;241m=\u001b[39m \u001b[38;5;28;01mawait\u001b[39;00m \u001b[38;5;28mself\u001b[39m\u001b[38;5;241m.\u001b[39m_query\u001b[38;5;241m.\u001b[39mnear_vector(\n\u001b[0;32m     93\u001b[0m         near_vector\u001b[38;5;241m=\u001b[39mnear_vector,\n\u001b[0;32m     94\u001b[0m         certainty\u001b[38;5;241m=\u001b[39mcertainty,\n\u001b[0;32m     95\u001b[0m         distance\u001b[38;5;241m=\u001b[39mdistance,\n\u001b[0;32m     96\u001b[0m         limit\u001b[38;5;241m=\u001b[39mlimit,\n\u001b[0;32m     97\u001b[0m         offset\u001b[38;5;241m=\u001b[39moffset,\n\u001b[0;32m     98\u001b[0m         autocut\u001b[38;5;241m=\u001b[39mauto_limit,\n\u001b[0;32m     99\u001b[0m         filters\u001b[38;5;241m=\u001b[39mfilters,\n\u001b[0;32m    100\u001b[0m         group_by\u001b[38;5;241m=\u001b[39m_GroupBy\u001b[38;5;241m.\u001b[39mfrom_input(group_by),\n\u001b[0;32m    101\u001b[0m         rerank\u001b[38;5;241m=\u001b[39mrerank,\n\u001b[0;32m    102\u001b[0m         target_vector\u001b[38;5;241m=\u001b[39mtarget_vector,\n\u001b[1;32m--> 103\u001b[0m         return_metadata\u001b[38;5;241m=\u001b[39m\u001b[38;5;28;43mself\u001b[39;49m\u001b[38;5;241;43m.\u001b[39;49m\u001b[43m_parse_return_metadata\u001b[49m\u001b[43m(\u001b[49m\u001b[43mreturn_metadata\u001b[49m\u001b[43m,\u001b[49m\u001b[43m \u001b[49m\u001b[43minclude_vector\u001b[49m\u001b[43m)\u001b[49m,\n\u001b[0;32m    104\u001b[0m         return_properties\u001b[38;5;241m=\u001b[39m\u001b[38;5;28mself\u001b[39m\u001b[38;5;241m.\u001b[39m_parse_return_properties(return_properties),\n\u001b[0;32m    105\u001b[0m         return_references\u001b[38;5;241m=\u001b[39m\u001b[38;5;28mself\u001b[39m\u001b[38;5;241m.\u001b[39m_parse_return_references(return_references),\n\u001b[0;32m    106\u001b[0m     )\n\u001b[0;32m    107\u001b[0m     \u001b[38;5;28;01mreturn\u001b[39;00m \u001b[38;5;28mself\u001b[39m\u001b[38;5;241m.\u001b[39m_result_to_query_or_groupby_return(\n\u001b[0;32m    108\u001b[0m         res,\n\u001b[0;32m    109\u001b[0m         _QueryOptions\u001b[38;5;241m.\u001b[39mfrom_input(\n\u001b[1;32m   (...)\u001b[0m\n\u001b[0;32m    119\u001b[0m         return_references,\n\u001b[0;32m    120\u001b[0m     )\n",
      "File \u001b[1;32mc:\\Users\\dhanu\\.conda\\envs\\idk_gpu\\lib\\site-packages\\weaviate\\collections\\queries\\base.py:587\u001b[0m, in \u001b[0;36m_Base._parse_return_metadata\u001b[1;34m(self, return_metadata, include_vector)\u001b[0m\n\u001b[0;32m    583\u001b[0m \u001b[38;5;28;01mdef\u001b[39;00m \u001b[38;5;21m_parse_return_metadata\u001b[39m(\n\u001b[0;32m    584\u001b[0m     \u001b[38;5;28mself\u001b[39m, return_metadata: Optional[METADATA], include_vector: INCLUDE_VECTOR\n\u001b[0;32m    585\u001b[0m ) \u001b[38;5;241m-\u001b[39m\u001b[38;5;241m>\u001b[39m Optional[_MetadataQuery]:\n\u001b[0;32m    586\u001b[0m     \u001b[38;5;28;01mif\u001b[39;00m \u001b[38;5;28mself\u001b[39m\u001b[38;5;241m.\u001b[39m_validate_arguments:\n\u001b[1;32m--> 587\u001b[0m         \u001b[43m_validate_input\u001b[49m\u001b[43m(\u001b[49m\n\u001b[0;32m    588\u001b[0m \u001b[43m            \u001b[49m\u001b[43m[\u001b[49m\n\u001b[0;32m    589\u001b[0m \u001b[43m                \u001b[49m\u001b[43m_ValidateArgument\u001b[49m\u001b[43m(\u001b[49m\n\u001b[0;32m    590\u001b[0m \u001b[43m                    \u001b[49m\u001b[43m[\u001b[49m\u001b[43mSequence\u001b[49m\u001b[43m[\u001b[49m\u001b[38;5;28;43mstr\u001b[39;49m\u001b[43m]\u001b[49m\u001b[43m,\u001b[49m\u001b[43m \u001b[49m\u001b[43mMetadataQuery\u001b[49m\u001b[43m,\u001b[49m\u001b[43m \u001b[49m\u001b[38;5;28;43;01mNone\u001b[39;49;00m\u001b[43m]\u001b[49m\u001b[43m,\u001b[49m\u001b[43m \u001b[49m\u001b[38;5;124;43m\"\u001b[39;49m\u001b[38;5;124;43mreturn_metadata\u001b[39;49m\u001b[38;5;124;43m\"\u001b[39;49m\u001b[43m,\u001b[49m\u001b[43m \u001b[49m\u001b[43mreturn_metadata\u001b[49m\n\u001b[0;32m    591\u001b[0m \u001b[43m                \u001b[49m\u001b[43m)\u001b[49m\u001b[43m,\u001b[49m\n\u001b[0;32m    592\u001b[0m \u001b[43m                \u001b[49m\u001b[43m_ValidateArgument\u001b[49m\u001b[43m(\u001b[49m\u001b[43m[\u001b[49m\u001b[38;5;28;43mbool\u001b[39;49m\u001b[43m,\u001b[49m\u001b[43m \u001b[49m\u001b[38;5;28;43mstr\u001b[39;49m\u001b[43m,\u001b[49m\u001b[43m \u001b[49m\u001b[43mSequence\u001b[49m\u001b[43m]\u001b[49m\u001b[43m,\u001b[49m\u001b[43m \u001b[49m\u001b[38;5;124;43m\"\u001b[39;49m\u001b[38;5;124;43minclude_vector\u001b[39;49m\u001b[38;5;124;43m\"\u001b[39;49m\u001b[43m,\u001b[49m\u001b[43m \u001b[49m\u001b[43minclude_vector\u001b[49m\u001b[43m)\u001b[49m\u001b[43m,\u001b[49m\n\u001b[0;32m    593\u001b[0m \u001b[43m            \u001b[49m\u001b[43m]\u001b[49m\n\u001b[0;32m    594\u001b[0m \u001b[43m        \u001b[49m\u001b[43m)\u001b[49m\n\u001b[0;32m    595\u001b[0m     \u001b[38;5;28;01mif\u001b[39;00m return_metadata \u001b[38;5;129;01mis\u001b[39;00m \u001b[38;5;28;01mNone\u001b[39;00m:\n\u001b[0;32m    596\u001b[0m         ret_md \u001b[38;5;241m=\u001b[39m \u001b[38;5;28;01mNone\u001b[39;00m\n",
      "File \u001b[1;32mc:\\Users\\dhanu\\.conda\\envs\\idk_gpu\\lib\\site-packages\\weaviate\\validator.py:32\u001b[0m, in \u001b[0;36m_validate_input\u001b[1;34m(inputs)\u001b[0m\n\u001b[0;32m     30\u001b[0m \u001b[38;5;28;01mfor\u001b[39;00m validate \u001b[38;5;129;01min\u001b[39;00m inputs:\n\u001b[0;32m     31\u001b[0m     \u001b[38;5;28;01mif\u001b[39;00m \u001b[38;5;129;01mnot\u001b[39;00m \u001b[38;5;28many\u001b[39m(_is_valid(exp, validate\u001b[38;5;241m.\u001b[39mvalue) \u001b[38;5;28;01mfor\u001b[39;00m exp \u001b[38;5;129;01min\u001b[39;00m validate\u001b[38;5;241m.\u001b[39mexpected):\n\u001b[1;32m---> 32\u001b[0m         \u001b[38;5;28;01mraise\u001b[39;00m WeaviateInvalidInputError(\n\u001b[0;32m     33\u001b[0m             \u001b[38;5;124mf\u001b[39m\u001b[38;5;124m\"\u001b[39m\u001b[38;5;124mArgument \u001b[39m\u001b[38;5;124m'\u001b[39m\u001b[38;5;132;01m{\u001b[39;00mvalidate\u001b[38;5;241m.\u001b[39mname\u001b[38;5;132;01m}\u001b[39;00m\u001b[38;5;124m'\u001b[39m\u001b[38;5;124m must be one of: \u001b[39m\u001b[38;5;132;01m{\u001b[39;00mvalidate\u001b[38;5;241m.\u001b[39mexpected\u001b[38;5;132;01m}\u001b[39;00m\u001b[38;5;124m, but got \u001b[39m\u001b[38;5;132;01m{\u001b[39;00m\u001b[38;5;28mtype\u001b[39m(validate\u001b[38;5;241m.\u001b[39mvalue)\u001b[38;5;132;01m}\u001b[39;00m\u001b[38;5;124m\"\u001b[39m\n\u001b[0;32m     34\u001b[0m         )\n",
      "\u001b[1;31mWeaviateInvalidInputError\u001b[0m: Invalid input provided: Argument 'return_metadata' must be one of: [typing.Sequence[str], <class 'weaviate.collections.classes.grpc.MetadataQuery'>, None], but got <class 'bool'>."
     ]
    }
   ],
   "source": [
    "query_embedding = embeddings.embed_query(\"traditional food\")\n",
    "query = collection.query.near_vector(\n",
    "    near_vector=query_embedding,\n",
    "    limit=10,\n",
    "    return_metadata=True\n",
    ")"
   ]
  },
  {
   "cell_type": "markdown",
   "metadata": {},
   "source": [
    "those were some of the objects used for this generation"
   ]
  },
  {
   "cell_type": "markdown",
   "metadata": {},
   "source": [
    "Note that we used a filter, so the content will be searched and generated only for that specific pdf.\n",
    "Let's change the filter to the second pdf file."
   ]
  },
  {
   "cell_type": "code",
   "execution_count": 13,
   "metadata": {},
   "outputs": [
    {
     "name": "stdout",
     "output_type": "stream",
     "text": [
      "The traditional food of the Netherlands typically consists of potatoes, meat, and seasonal vegetables for dinner. The diet was historically high in carbohydrates and fat, reflecting the needs of laborers. Some typical Dutch foods include mayonnaise, whole-grain mustards, chocolate, buttermilk, seafood like herring and mussels, and pastries like stroopwafel and gevulde koek. The cuisine varies by region, with different specialties in the north, south, and western parts of the country. Beer and Jenever are traditional alcoholic beverages in the region.\n"
     ]
    }
   ],
   "source": [
    "# We can filter it out, now for Netherlands\n",
    "generateTask = \"Qual é a comida tradicional deste país?. Answer in english\"\n",
    "# now generating the answer using Wikipedia\n",
    "source_file = \"netherlands-wikipedia-article-text.pdf\"\n",
    "\n",
    "query = collection.generate.near_text(\n",
    "    query=\"tradicional food\",\n",
    "    filters=wvc.query.Filter.by_property(\"source\").equal(source_file),\n",
    "    limit=10,\n",
    "    grouped_task=generateTask\n",
    ")\n",
    "\n",
    "print(query.generated)"
   ]
  },
  {
   "cell_type": "code",
   "execution_count": 14,
   "metadata": {},
   "outputs": [
    {
     "name": "stdout",
     "output_type": "stream",
     "text": [
      "Both Brazil and the Netherlands have a variety of fried foods in their cuisine. In Brazil, fried potatoes, fried cassava, fried banana, fried meat, and fried cheese are commonly eaten, while in the Netherlands, fried fish dishes like kibbeling and lekkerbek are popular. Additionally, both countries have a tradition of using flour in their dishes, such as in Brazilian farofa and Dutch cookies and pastries.\n"
     ]
    }
   ],
   "source": [
    "# We can filter it out for multilpe sources\n",
    "generateTask = \"What is in common on the food of thouse two countries?\"\n",
    "# now generating the answer using Wikipedia\n",
    "source_files = [\"netherlands-wikipedia-article-text.pdf\", \"brazil-wikipedia-article-text.pdf\"]\n",
    "\n",
    "query = collection.generate.near_text(\n",
    "    query=\"tradicional food\",\n",
    "    filters=wvc.query.Filter.by_property(\"source\").contains_any(source_files),\n",
    "    limit=10,\n",
    "    grouped_task=generateTask\n",
    ")\n",
    "\n",
    "print(query.generated)"
   ]
  },
  {
   "cell_type": "code",
   "execution_count": 32,
   "metadata": {},
   "outputs": [],
   "source": [
    "\n",
    "db = WeaviateVectorStore(embedding=embeddings, client=client, index_name=\"WikipediaLangChain\", text_key=\"text\")"
   ]
  },
  {
   "cell_type": "code",
   "execution_count": null,
   "metadata": {},
   "outputs": [
    {
     "name": "stdout",
     "output_type": "stream",
     "text": [
      "[Document(metadata={'page': 14.0, 'source': 'netherlands-wikipedia-article-text.pdf'}, page_content='cream, custard or fruits. Cakes, such as the \\nVlaai\\n from Limburg and the \\nMoorkop\\n and \\nBossche Bol\\n from Brabant, are typical\\npastries. Savoury pastries also occur, with the \\nworstenbroodje\\n (a roll with a sausage of ground beef, literally translates into sausage\\nbread) being the most popular. The traditional alcoholic beverage of the region is beer. There are many local brands, ranging from'), Document(metadata={'page': 14.0, 'source': 'netherlands-wikipedia-article-text.pdf'}, page_content='cream, custard or fruits. Cakes, such as the \\nVlaai\\n from Limburg and the \\nMoorkop\\n and \\nBossche Bol\\n from Brabant, are typical\\npastries. Savoury pastries also occur, with the \\nworstenbroodje\\n (a roll with a sausage of ground beef, literally translates into sausage\\nbread) being the most popular. The traditional alcoholic beverage of the region is beer. There are many local brands, ranging from'), Document(metadata={'page': 14.0, 'source': 'netherlands-wikipedia-article-text.pdf'}, page_content='widely available and typical for the region. \\nKibbeling\\n, once a local delicacy consisting of small chunks of battered white fish, has\\nbecome a national fast food, just as lekkerbek.\\nThe Southern Dutch cuisine consists of the cuisines of the Dutch provinces of North Brabant and Limburg and the Flemish Region in'), Document(metadata={'page': 14.0, 'source': 'netherlands-wikipedia-article-text.pdf'}, page_content='widely available and typical for the region. \\nKibbeling\\n, once a local delicacy consisting of small chunks of battered white fish, has\\nbecome a national fast food, just as lekkerbek.\\nThe Southern Dutch cuisine consists of the cuisines of the Dutch provinces of North Brabant and Limburg and the Flemish Region in')]\n"
     ]
    }
   ],
   "source": [
    "# similarity search on all objects\n",
    "docs = db.similarity_search(\"traditional food\")\n",
    "print(docs)"
   ]
  },
  {
   "cell_type": "code",
   "execution_count": 34,
   "metadata": {},
   "outputs": [
    {
     "name": "stdout",
     "output_type": "stream",
     "text": [
      "[Document(metadata={'page': 12.0, 'source': 'brazil-wikipedia-article-text.pdf'}, page_content=\"Japanese, Jewish and Arab immigrants who arrived in large numbers in the South and Southeast of Brazil during the 19th\\nand 20th centuries. The indigenous Amerindians influenced Brazil's language and cuisine; and the Africans influenced\\nlanguage, cuisine, music, dance and religion.\"), Document(metadata={'page': 13.0, 'source': 'brazil-wikipedia-article-text.pdf'}, page_content='flour (farofa). Fried potatoes, fried cassava, fried banana, fried meat and fried cheese are very often eaten in lunch and\\nserved in most typical restaurants. Popular snacks are pastel (a fried pastry); coxinha (a variation of chicken croquete); pão\\nde queijo (cheese bread and cassava flour / tapioca); pamonha (corn and milk paste); esfirra (a variation of Lebanese'), Document(metadata={'page': 13.0, 'source': 'brazil-wikipedia-article-text.pdf'}, page_content=\"acarajé (from African cuisine).\\nThe national beverage is coffee and cachaça is Brazil's native liquor. Cachaça is distilled from sugar cane and is the main\\ningredient in the national cocktail, Caipirinha.\\nA typical meal consists mostly of rice and beans with beef, salad, french fries and a fried egg. Often, it is mixed with cassava\"), Document(metadata={'page': 8.0, 'source': 'brazil-wikipedia-article-text.pdf'}, page_content='accommodation and catering, transport, communications, financial services, real estate activities and services provided to\\nbusinesses, public administration (urban cleaning, sanitation, etc.) and other services such as education, social and health\\nservices, research and development, sports activities, etc., since it consists of activities complementary to other sectors.')]\n"
     ]
    }
   ],
   "source": [
    "# change bellow to get chunks per different files / countries\n",
    "source_file = \"brazil-wikipedia-article-text.pdf\"\n",
    "#source_file = \"netherlands-wikipedia-article-text.pdf\"\n",
    "where_filter = wvc.query.Filter.by_property(\"source\").equal(source_file)\n",
    "docs = db.similarity_search(\"traditional food\", filters=where_filter)\n",
    "print(docs)"
   ]
  },
  {
   "cell_type": "code",
   "execution_count": 35,
   "metadata": {},
   "outputs": [],
   "source": [
    "from langchain.chains import create_retrieval_chain\n",
    "from langchain.chains.combine_documents import create_stuff_documents_chain\n",
    "from langchain_core.prompts import ChatPromptTemplate\n",
    "\n",
    "\n",
    "from weaviate.classes.query import Filter"
   ]
  },
  {
   "cell_type": "code",
   "execution_count": 38,
   "metadata": {},
   "outputs": [
    {
     "name": "stdout",
     "output_type": "stream",
     "text": [
      "Available Gemini Models:\n",
      "- models/gemini-1.0-pro-latest\n",
      "- models/gemini-1.0-pro\n",
      "- models/gemini-pro\n",
      "- models/gemini-1.0-pro-001\n",
      "- models/gemini-1.0-pro-vision-latest\n",
      "- models/gemini-pro-vision\n",
      "- models/gemini-1.5-pro-latest\n",
      "- models/gemini-1.5-pro-001\n",
      "- models/gemini-1.5-pro-002\n",
      "- models/gemini-1.5-pro\n",
      "- models/gemini-1.5-pro-exp-0801\n",
      "- models/gemini-1.5-pro-exp-0827\n",
      "- models/gemini-1.5-flash-latest\n",
      "- models/gemini-1.5-flash-001\n",
      "- models/gemini-1.5-flash-001-tuning\n",
      "- models/gemini-1.5-flash\n",
      "- models/gemini-1.5-flash-exp-0827\n",
      "- models/gemini-1.5-flash-002\n",
      "- models/gemini-1.5-flash-8b\n",
      "- models/gemini-1.5-flash-8b-001\n",
      "- models/gemini-1.5-flash-8b-latest\n",
      "- models/gemini-1.5-flash-8b-exp-0827\n",
      "- models/gemini-1.5-flash-8b-exp-0924\n",
      "- models/gemini-2.0-flash-exp\n",
      "- models/gemini-exp-1206\n",
      "- models/gemini-exp-1121\n",
      "- models/gemini-exp-1114\n",
      "- models/gemini-2.0-flash-thinking-exp\n",
      "- models/gemini-2.0-flash-thinking-exp-1219\n"
     ]
    }
   ],
   "source": [
    "models = genai.list_models()\n",
    "\n",
    "\n",
    "print(\"Available Gemini Models:\")\n",
    "for model in models:\n",
    "    if \"gemini\" in model.name.lower():\n",
    "        print(f\"- {model.name}\")"
   ]
  },
  {
   "cell_type": "code",
   "execution_count": null,
   "metadata": {},
   "outputs": [],
   "source": [
    "\n",
    "\n",
    "# client = weaviate.connect_to_weaviate_cloud(...)\n",
    "\n",
    "db = WeaviateVectorStore.from_documents([], embeddings, client=client, index_name=\"WikipediaLangChain\")\n",
    "\n",
    "source_file = \"brazil-wikipedia-article-text.pdf\"\n",
    "#source_file = \"netherlands-wikipedia-article-text.pdf\"\n",
    "where_filter = Filter.by_property(\"source\").equal(source_file)\n",
    "\n",
    "# retriever to filter the results\n",
    "retriever = db.as_retriever(search_kwargs={\"filters\": where_filter})\n",
    "\n",
    "system_prompt = (\n",
    "    \"You are an assistant for question-answering tasks. \"\n",
    "    \"Use the following pieces of retrieved context to answer \"\n",
    "    \"the question. If you don't know the answer, say that you \"\n",
    "    \"don't know. Use three sentences maximum and keep the \"\n",
    "    \"answer concise.\"\n",
    "    \"\\n\\n\"\n",
    "    \"{context}\"\n",
    ")\n",
    "\n",
    "prompt = ChatPromptTemplate.from_messages(\n",
    "    [\n",
    "        (\"system\", system_prompt),\n",
    "        (\"human\", \"{input}\"),\n",
    "    ]\n",
    ")\n",
    "\n"
   ]
  },
  {
   "cell_type": "code",
   "execution_count": 40,
   "metadata": {},
   "outputs": [
    {
     "name": "stdout",
     "output_type": "stream",
     "text": [
      "Feijoada is considered Brazil's national dish.  A typical meal often includes rice and beans with beef, salad, french fries, and a fried egg.  Regional variations exist, reflecting the country's diverse population.\n",
      "\n"
     ]
    }
   ],
   "source": [
    "llm = ChatGoogleGenerativeAI(\n",
    "    model=\"models/gemini-1.5-flash\", \n",
    "    google_api_key= gemini_api_key\n",
    ")\n",
    "question_answer_chain = create_stuff_documents_chain(llm, prompt)\n",
    "rag_chain = create_retrieval_chain(retriever, question_answer_chain)\n",
    "\n",
    "response = rag_chain.invoke({\"input\": \"What is he traditional food of this country?\"})\n",
    "print(response[\"answer\"])"
   ]
  },
  {
   "cell_type": "code",
   "execution_count": 79,
   "metadata": {},
   "outputs": [],
   "source": [
    "#lets close our embedded server\n",
    "client.close()"
   ]
  }
 ],
 "metadata": {
  "kernelspec": {
   "display_name": "idk_gpu",
   "language": "python",
   "name": "python3"
  },
  "language_info": {
   "codemirror_mode": {
    "name": "ipython",
    "version": 3
   },
   "file_extension": ".py",
   "mimetype": "text/x-python",
   "name": "python",
   "nbconvert_exporter": "python",
   "pygments_lexer": "ipython3",
   "version": "3.10.14"
  }
 },
 "nbformat": 4,
 "nbformat_minor": 2
}
